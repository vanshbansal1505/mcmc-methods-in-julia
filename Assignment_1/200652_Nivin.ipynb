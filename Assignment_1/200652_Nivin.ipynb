{
 "cells": [
  {
   "cell_type": "code",
   "execution_count": 1,
   "metadata": {},
   "outputs": [],
   "source": [
    "using Distributions\n",
    "using Plots"
   ]
  },
  {
   "cell_type": "code",
   "execution_count": 2,
   "metadata": {},
   "outputs": [
    {
     "data": {
      "text/plain": [
       "Binomial{Float64}(n=5, p=0.21)"
      ]
     },
     "execution_count": 2,
     "metadata": {},
     "output_type": "execute_result"
    }
   ],
   "source": [
    "λ = 2\n",
    "X = Poisson(λ)\n",
    "Distributions.Poisson{Float64}(λ)\n",
    "\n",
    "n = 5\n",
    "p = 0.21\n",
    "\n",
    "Y = Binomial(n, p)\n",
    "Distributions.Binomial{Float64}(n,p)"
   ]
  },
  {
   "cell_type": "code",
   "execution_count": 3,
   "metadata": {},
   "outputs": [
    {
     "data": {
      "text/plain": [
       "cdf (generic function with 1 method)"
      ]
     },
     "execution_count": 3,
     "metadata": {},
     "output_type": "execute_result"
    }
   ],
   "source": [
    "#defining the cdf of Poisson Distribution\n",
    "function cdf(n)\n",
    "    sum = 0\n",
    "    for i in 1:n\n",
    "        sum = sum + pdf(X,i)\n",
    "    end\n",
    "    return sum\n",
    "end"
   ]
  },
  {
   "cell_type": "code",
   "execution_count": 4,
   "metadata": {},
   "outputs": [
    {
     "data": {
      "text/plain": [
       "draw_poisson (generic function with 1 method)"
      ]
     },
     "execution_count": 4,
     "metadata": {},
     "output_type": "execute_result"
    }
   ],
   "source": [
    "function draw_poisson(λ,u)\n",
    "    flag = 0\n",
    "    I = floor(λ)\n",
    "    while flag == 0\n",
    "        if ((u>cdf(I-1))&&(u<cdf(I)))\n",
    "            flag = 1\n",
    "            return I\n",
    "        elseif(u>cdf(I))\n",
    "            I = I + 1\n",
    "        else \n",
    "            I = I - 1\n",
    "        end\n",
    "    end\n",
    "end    "
   ]
  },
  {
   "cell_type": "code",
   "execution_count": 5,
   "metadata": {},
   "outputs": [
    {
     "data": {
      "text/plain": [
       "draw_binomial (generic function with 1 method)"
      ]
     },
     "execution_count": 5,
     "metadata": {},
     "output_type": "execute_result"
    }
   ],
   "source": [
    "function draw_binomial(n,p)\n",
    "    accept = 0\n",
    "    x = zeros(n)\n",
    "    all_c = zeros(n)\n",
    "    for i in 1:n\n",
    "        all_c[i] = pdf(Y,i)/pdf(X,i)\n",
    "    end\n",
    "    c=max(all_c)\n",
    "    while accept == 0\n",
    "        u = rand(Uniform(0,1))\n",
    "        i = draw_poisson(λ,u)\n",
    "        ratio = pdf(Y,i)/(c*pdf(X,i))\n",
    "        if (u < ratio)\n",
    "            accept = 1\n",
    "            return i\n",
    "        end\n",
    "    end\n",
    "end        "
   ]
  },
  {
   "cell_type": "code",
   "execution_count": 11,
   "metadata": {},
   "outputs": [
    {
     "ename": "LoadError",
     "evalue": "MethodError: no method matching max(::Vector{Float64})\n\u001b[0mClosest candidates are:\n\u001b[0m  max(::Any, \u001b[91m::Missing\u001b[39m) at C:\\Users\\nivin\\AppData\\Local\\Programs\\Julia-1.7.2\\share\\julia\\base\\missing.jl:137\n\u001b[0m  max(::Any, \u001b[91m::Any\u001b[39m) at C:\\Users\\nivin\\AppData\\Local\\Programs\\Julia-1.7.2\\share\\julia\\base\\operators.jl:492\n\u001b[0m  max(::Any, \u001b[91m::Any\u001b[39m, \u001b[91m::Any\u001b[39m, \u001b[91m::Any...\u001b[39m) at C:\\Users\\nivin\\AppData\\Local\\Programs\\Julia-1.7.2\\share\\julia\\base\\operators.jl:655\n\u001b[0m  ...",
     "output_type": "error",
     "traceback": [
      "MethodError: no method matching max(::Vector{Float64})\n\u001b[0mClosest candidates are:\n\u001b[0m  max(::Any, \u001b[91m::Missing\u001b[39m) at C:\\Users\\nivin\\AppData\\Local\\Programs\\Julia-1.7.2\\share\\julia\\base\\missing.jl:137\n\u001b[0m  max(::Any, \u001b[91m::Any\u001b[39m) at C:\\Users\\nivin\\AppData\\Local\\Programs\\Julia-1.7.2\\share\\julia\\base\\operators.jl:492\n\u001b[0m  max(::Any, \u001b[91m::Any\u001b[39m, \u001b[91m::Any\u001b[39m, \u001b[91m::Any...\u001b[39m) at C:\\Users\\nivin\\AppData\\Local\\Programs\\Julia-1.7.2\\share\\julia\\base\\operators.jl:655\n\u001b[0m  ...",
      "",
      "Stacktrace:",
      " [1] draw_binomial(n::Int64, p::Float64)",
      "   @ Main .\\In[5]:8",
      " [2] top-level scope",
      "   @ .\\In[11]:4",
      " [3] eval",
      "   @ .\\boot.jl:373 [inlined]",
      " [4] include_string(mapexpr::typeof(REPL.softscope), mod::Module, code::String, filename::String)",
      "   @ Base .\\loading.jl:1196"
     ]
    }
   ],
   "source": [
    "n = 100\n",
    "results = zeros(n)\n",
    "for i in 1:n\n",
    "    results[i] = draw_binomial(n,p)\n",
    "end   "
   ]
  },
  {
   "cell_type": "code",
   "execution_count": 7,
   "metadata": {},
   "outputs": [
    {
     "data": {
      "text/plain": [
       "100-element Vector{Float64}:\n",
       " 0.0\n",
       " 0.0\n",
       " 0.0\n",
       " 0.0\n",
       " 0.0\n",
       " 0.0\n",
       " 0.0\n",
       " 0.0\n",
       " 0.0\n",
       " 0.0\n",
       " 0.0\n",
       " 0.0\n",
       " 0.0\n",
       " ⋮\n",
       " 0.0\n",
       " 0.0\n",
       " 0.0\n",
       " 0.0\n",
       " 0.0\n",
       " 0.0\n",
       " 0.0\n",
       " 0.0\n",
       " 0.0\n",
       " 0.0\n",
       " 0.0\n",
       " 0.0"
      ]
     },
     "execution_count": 7,
     "metadata": {},
     "output_type": "execute_result"
    }
   ],
   "source": [
    "sort!(results)"
   ]
  },
  {
   "cell_type": "code",
   "execution_count": 10,
   "metadata": {
    "scrolled": true
   },
   "outputs": [
    {
     "ename": "LoadError",
     "evalue": "Cannot convert DataType to series data for plotting",
     "output_type": "error",
     "traceback": [
      "Cannot convert DataType to series data for plotting",
      "",
      "Stacktrace:",
      "  [1] error(s::String)",
      "    @ Base .\\error.jl:33",
      "  [2] _prepare_series_data(x::Type)",
      "    @ RecipesPipeline C:\\Users\\nivin\\.julia\\packages\\RecipesPipeline\\F2mWY\\src\\series.jl:8",
      "  [3] _series_data_vector(x::Type, plotattributes::Dict{Symbol, Any})",
      "    @ RecipesPipeline C:\\Users\\nivin\\.julia\\packages\\RecipesPipeline\\F2mWY\\src\\series.jl:27",
      "  [4] macro expansion",
      "    @ C:\\Users\\nivin\\.julia\\packages\\RecipesPipeline\\F2mWY\\src\\series.jl:127 [inlined]",
      "  [5] apply_recipe(plotattributes::AbstractDict{Symbol, Any}, #unused#::Type{RecipesPipeline.SliceIt}, x::Any, y::Any, z::Any)",
      "    @ RecipesPipeline C:\\Users\\nivin\\.julia\\packages\\RecipesBase\\qpxEX\\src\\RecipesBase.jl:289",
      "  [6] _process_userrecipes!(plt::Any, plotattributes::Any, args::Any)",
      "    @ RecipesPipeline C:\\Users\\nivin\\.julia\\packages\\RecipesPipeline\\F2mWY\\src\\user_recipe.jl:36",
      "  [7] recipe_pipeline!(plt::Any, plotattributes::Any, args::Any)",
      "    @ RecipesPipeline C:\\Users\\nivin\\.julia\\packages\\RecipesPipeline\\F2mWY\\src\\RecipesPipeline.jl:70",
      "  [8] _plot!(plt::Plots.Plot, plotattributes::Any, args::Any)",
      "    @ Plots C:\\Users\\nivin\\.julia\\packages\\Plots\\dNEbX\\src\\plot.jl:208",
      "  [9] plot(args::Any; kw::Base.Pairs{Symbol, V, Tuple{Vararg{Symbol, N}}, NamedTuple{names, T}} where {V, N, names, T<:Tuple{Vararg{Any, N}}})",
      "    @ Plots C:\\Users\\nivin\\.julia\\packages\\Plots\\dNEbX\\src\\plot.jl:91",
      " [10] histogram(args::Any; kw::Base.Pairs{Symbol, V, Tuple{Vararg{Symbol, N}}, NamedTuple{names, T}} where {V, N, names, T<:Tuple{Vararg{Any, N}}})",
      "    @ Plots C:\\Users\\nivin\\.julia\\packages\\RecipesBase\\qpxEX\\src\\RecipesBase.jl:410",
      " [11] histogram(args::Any)",
      "    @ Plots C:\\Users\\nivin\\.julia\\packages\\RecipesBase\\qpxEX\\src\\RecipesBase.jl:410",
      " [12] top-level scope",
      "    @ In[10]:1",
      " [13] eval",
      "    @ .\\boot.jl:373 [inlined]",
      " [14] include_string(mapexpr::typeof(REPL.softscope), mod::Module, code::String, filename::String)",
      "    @ Base .\\loading.jl:1196"
     ]
    }
   ],
   "source": [
    "histogram(results)"
   ]
  },
  {
   "cell_type": "code",
   "execution_count": null,
   "metadata": {},
   "outputs": [],
   "source": []
  }
 ],
 "metadata": {
  "kernelspec": {
   "display_name": "Julia 1.7.2",
   "language": "julia",
   "name": "julia-1.7"
  },
  "language_info": {
   "file_extension": ".jl",
   "mimetype": "application/julia",
   "name": "julia",
   "version": "1.7.2"
  }
 },
 "nbformat": 4,
 "nbformat_minor": 4
}
