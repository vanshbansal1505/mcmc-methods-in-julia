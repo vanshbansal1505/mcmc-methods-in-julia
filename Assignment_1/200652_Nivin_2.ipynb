{
 "cells": [
  {
   "cell_type": "code",
   "execution_count": 2,
   "metadata": {},
   "outputs": [],
   "source": [
    "using Statistics"
   ]
  },
  {
   "cell_type": "code",
   "execution_count": 3,
   "metadata": {},
   "outputs": [],
   "source": [
    "using Distributions\n",
    "using Plots"
   ]
  },
  {
   "cell_type": "code",
   "execution_count": 4,
   "metadata": {},
   "outputs": [
    {
     "data": {
      "text/plain": [
       "3"
      ]
     },
     "execution_count": 4,
     "metadata": {},
     "output_type": "execute_result"
    }
   ],
   "source": [
    "#fixing lambda value\n",
    "λ = 3"
   ]
  },
  {
   "cell_type": "code",
   "execution_count": 5,
   "metadata": {},
   "outputs": [
    {
     "data": {
      "text/plain": [
       "3"
      ]
     },
     "execution_count": 5,
     "metadata": {},
     "output_type": "execute_result"
    }
   ],
   "source": [
    "#taking floor value of lambda\n",
    "I = floor(λ)"
   ]
  },
  {
   "cell_type": "code",
   "execution_count": 6,
   "metadata": {},
   "outputs": [
    {
     "data": {
      "text/plain": [
       "Poisson_pdf (generic function with 1 method)"
      ]
     },
     "execution_count": 6,
     "metadata": {},
     "output_type": "execute_result"
    }
   ],
   "source": [
    "function Poisson_pdf(i)\n",
    "    f=λ^i*exp(-λ)/factorial(big(i))\n",
    "    return f\n",
    "end"
   ]
  },
  {
   "cell_type": "code",
   "execution_count": 7,
   "metadata": {},
   "outputs": [
    {
     "data": {
      "text/plain": [
       "cdf (generic function with 1 method)"
      ]
     },
     "execution_count": 7,
     "metadata": {},
     "output_type": "execute_result"
    }
   ],
   "source": [
    "#defining the cdf of Poisson Distribution\n",
    "function cdf(n)\n",
    "    sum = 0\n",
    "    for i in 1:n\n",
    "        sum = sum + Poisson_pdf(i)\n",
    "    end\n",
    "    return sum\n",
    "end"
   ]
  },
  {
   "cell_type": "code",
   "execution_count": null,
   "metadata": {},
   "outputs": [],
   "source": [
    "#no of trials\n",
    "n=100\n",
    "results=zeros(n)\n",
    "for i in 1:n\n",
    "    #generating random sample from Uniform(0,1)\n",
    "    u=rand(Uniform(0,1)) \n",
    "    flag = 0\n",
    "    while flag == 0\n",
    "        if ((u>cdf(I-1))&&(u<cdf(I)))\n",
    "            flag = 1\n",
    "            results[i] = I\n",
    "        elseif(u>cdf(I))\n",
    "            I = I + 1\n",
    "        else \n",
    "            I = I - 1\n",
    "        end\n",
    "    end\n",
    "end"
   ]
  },
  {
   "cell_type": "code",
   "execution_count": null,
   "metadata": {},
   "outputs": [],
   "source": [
    "results"
   ]
  },
  {
   "cell_type": "code",
   "execution_count": null,
   "metadata": {},
   "outputs": [],
   "source": [
    "sort!(results)\n",
    "number_results = zeros(n)\n",
    "for i in 1:n\n",
    "    number_results[results[i]] = 1\n",
    "end\n",
    "total_elements = zeros(n)\n",
    "total_elements = number_results\n",
    "for i in 1:n\n",
    "    if(results[i+1] == results[i])\n",
    "        number_results[results[i]] = number_results[results[i]] + 1\n",
    "    end\n",
    "end\n",
    "        "
   ]
  },
  {
   "cell_type": "code",
   "execution_count": null,
   "metadata": {},
   "outputs": [],
   "source": [
    "plot(number_results)"
   ]
  },
  {
   "cell_type": "code",
   "execution_count": null,
   "metadata": {},
   "outputs": [],
   "source": [
    "mean = sum(results)/sum(total_elements)\n",
    "variance = var(results)"
   ]
  },
  {
   "cell_type": "code",
   "execution_count": null,
   "metadata": {},
   "outputs": [],
   "source": []
  }
 ],
 "metadata": {
  "kernelspec": {
   "display_name": "Julia 1.7.2",
   "language": "julia",
   "name": "julia-1.7"
  },
  "language_info": {
   "file_extension": ".jl",
   "mimetype": "application/julia",
   "name": "julia",
   "version": "1.7.2"
  }
 },
 "nbformat": 4,
 "nbformat_minor": 4
}
