{
 "cells": [
  {
   "cell_type": "code",
   "execution_count": null,
   "id": "3cea9a5c",
   "metadata": {},
   "outputs": [],
   "source": [
    "## Question 1"
   ]
  },
  {
   "cell_type": "code",
   "execution_count": 26,
   "id": "65830511",
   "metadata": {
    "scrolled": true
   },
   "outputs": [
    {
     "data": {
      "text/plain": [
       "10"
      ]
     },
     "execution_count": 26,
     "metadata": {},
     "output_type": "execute_result"
    }
   ],
   "source": [
    "l = 10"
   ]
  },
  {
   "cell_type": "code",
   "execution_count": 27,
   "id": "e2f56bda",
   "metadata": {},
   "outputs": [
    {
     "data": {
      "text/plain": [
       "10"
      ]
     },
     "execution_count": 27,
     "metadata": {},
     "output_type": "execute_result"
    }
   ],
   "source": [
    "I = floor(l)"
   ]
  },
  {
   "cell_type": "code",
   "execution_count": 28,
   "id": "478dc3df",
   "metadata": {},
   "outputs": [
    {
     "data": {
      "text/plain": [
       "Uniform{Float64}(a=0.0, b=1.0)"
      ]
     },
     "execution_count": 28,
     "metadata": {},
     "output_type": "execute_result"
    }
   ],
   "source": [
    "using Random, Distributions\n",
    "Random.seed!(1)\n",
    "d = Uniform()"
   ]
  },
  {
   "cell_type": "code",
   "execution_count": 29,
   "id": "780f557f",
   "metadata": {},
   "outputs": [
    {
     "data": {
      "text/plain": [
       "p (generic function with 1 method)"
      ]
     },
     "execution_count": 29,
     "metadata": {},
     "output_type": "execute_result"
    }
   ],
   "source": [
    "p(x) = (exp(-l) * (l^x))/factorial(big(x))"
   ]
  },
  {
   "cell_type": "code",
   "execution_count": 30,
   "id": "fa918c36",
   "metadata": {},
   "outputs": [],
   "source": [
    "c = zeros(30)\n",
    "j = I\n",
    "a = sum(p(x) for x in 1:j-1)\n",
    "b = sum(p(x) for x in 1:j)\n",
    "for i in 1:30\n",
    "    U = rand(d)\n",
    "    while true\n",
    "        if(U > a) \n",
    "            if(U < b) \n",
    "                break\n",
    "            else \n",
    "                a = a + p(j)\n",
    "                b = b + p(j+1)\n",
    "                j = j + 1\n",
    "            end\n",
    "        else\n",
    "            a = a - p(j-1)\n",
    "            b = b - p(j)\n",
    "            j = j - 1\n",
    "        end\n",
    "    end\n",
    "    c[i] = j\n",
    "end"
   ]
  },
  {
   "cell_type": "code",
   "execution_count": 31,
   "id": "ae7a49e7",
   "metadata": {},
   "outputs": [
    {
     "data": {
      "text/plain": [
       "9.7"
      ]
     },
     "execution_count": 31,
     "metadata": {},
     "output_type": "execute_result"
    }
   ],
   "source": [
    "mean(c)"
   ]
  },
  {
   "cell_type": "code",
   "execution_count": null,
   "id": "9a6ec68f",
   "metadata": {},
   "outputs": [],
   "source": [
    "## Question 2"
   ]
  },
  {
   "cell_type": "code",
   "execution_count": null,
   "id": "97a3e3af",
   "metadata": {},
   "outputs": [],
   "source": [
    "n = 6\n",
    "pr = 0.3\n",
    "E = n*pr\n",
    "VAR = n*pr*(1-pr)\n",
    "print(\"$E $VAR\")"
   ]
  },
  {
   "cell_type": "code",
   "execution_count": null,
   "id": "a39841ce",
   "metadata": {},
   "outputs": [],
   "source": [
    "ext = n*(1-pr)\n",
    "ext1 = floor(ext)\n",
    "S = ext - ext1\n",
    "lamda = 0\n",
    "if(S <= pr)\n",
    "    lamda = n - ext1\n",
    "else\n",
    "    lamda = (pr * (ext1 + 1))/(1-pr)\n",
    "end"
   ]
  },
  {
   "cell_type": "code",
   "execution_count": null,
   "id": "1507e18d",
   "metadata": {},
   "outputs": [],
   "source": [
    "c = 1.42"
   ]
  },
  {
   "cell_type": "code",
   "execution_count": null,
   "id": "07e016c7",
   "metadata": {},
   "outputs": [],
   "source": [
    "d = Uniform()\n",
    "e = Poisson(lamda)"
   ]
  },
  {
   "cell_type": "code",
   "execution_count": null,
   "id": "61eac71d",
   "metadata": {},
   "outputs": [],
   "source": [
    "q(x) = (exp(-lamda) * (lamda^x))/factorial(big(x))"
   ]
  },
  {
   "cell_type": "code",
   "execution_count": null,
   "id": "cba5e3cb",
   "metadata": {},
   "outputs": [],
   "source": [
    "p(x) = (binomial(n, x)) * ((1 - pr)^(n-x)) * (pr^x)"
   ]
  },
  {
   "cell_type": "code",
   "execution_count": null,
   "id": "b4649e62",
   "metadata": {},
   "outputs": [],
   "source": [
    "Value = 0\n",
    "for j in 0:n\n",
    "    Ratio = p(j)/q(j)\n",
    "    Value = max(Value, Ratio)\n",
    "end\n",
    "print(Value)"
   ]
  },
  {
   "cell_type": "code",
   "execution_count": null,
   "id": "95e3cb52",
   "metadata": {},
   "outputs": [],
   "source": [
    "ceaser = Array{Int64}(undef, 100)\n",
    "for i in 1:100\n",
    "    Y = rand(e)\n",
    "    while Y>n\n",
    "        Y = rand(e)\n",
    "    end\n",
    "    l = q(Y)\n",
    "    r = p(Y)\n",
    "    ratio = r/(l*c)\n",
    "    U = rand(d)\n",
    "    X = 0\n",
    "    while true\n",
    "        if U < ratio\n",
    "            X = Y\n",
    "            break\n",
    "        else \n",
    "            U = rand(d)\n",
    "        end\n",
    "    end\n",
    "    ceaser[i] = X\n",
    "end"
   ]
  },
  {
   "cell_type": "code",
   "execution_count": null,
   "id": "c0593b79",
   "metadata": {},
   "outputs": [],
   "source": [
    "mean(ceaser)"
   ]
  },
  {
   "cell_type": "code",
   "execution_count": null,
   "id": "d58b72b7",
   "metadata": {},
   "outputs": [],
   "source": [
    "var(ceaser)"
   ]
  },
  {
   "cell_type": "code",
   "execution_count": null,
   "id": "ab2d8b97",
   "metadata": {},
   "outputs": [],
   "source": [
    "using DataFrames\n",
    "using Plots"
   ]
  },
  {
   "cell_type": "code",
   "execution_count": null,
   "id": "39bf6ee3",
   "metadata": {},
   "outputs": [],
   "source": [
    "histogram(ceaser)"
   ]
  },
  {
   "cell_type": "code",
   "execution_count": null,
   "id": "e3ab2e30",
   "metadata": {},
   "outputs": [],
   "source": [
    "ceaser = zeros(100)\n",
    "for i in 1:100\n",
    "    Y = rand(e)\n",
    "    while Y>n\n",
    "        Y = rand(e)\n",
    "    end\n",
    "    l = q(Y)\n",
    "    r = p(Y)\n",
    "    ratio = r/(l*Value)\n",
    "    U = rand(d)\n",
    "    X = 0\n",
    "    while true\n",
    "        if U < ratio\n",
    "            X = Y\n",
    "            break\n",
    "        else \n",
    "            U = rand(d)\n",
    "        end\n",
    "    end\n",
    "    ceaser[i] = X\n",
    "end"
   ]
  },
  {
   "cell_type": "code",
   "execution_count": null,
   "id": "adb4a1f2",
   "metadata": {},
   "outputs": [],
   "source": [
    "mean(ceaser)"
   ]
  },
  {
   "cell_type": "code",
   "execution_count": null,
   "id": "5ac94305",
   "metadata": {},
   "outputs": [],
   "source": [
    "var(ceaser)"
   ]
  },
  {
   "cell_type": "code",
   "execution_count": null,
   "id": "d3628a34",
   "metadata": {},
   "outputs": [],
   "source": [
    "histogram(ceaser)"
   ]
  }
 ],
 "metadata": {
  "kernelspec": {
   "display_name": "Julia 1.7.2",
   "language": "julia",
   "name": "julia-1.7"
  },
  "language_info": {
   "file_extension": ".jl",
   "mimetype": "application/julia",
   "name": "julia",
   "version": "1.7.2"
  }
 },
 "nbformat": 4,
 "nbformat_minor": 5
}
