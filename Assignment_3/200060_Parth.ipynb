{
 "cells": [
  {
   "cell_type": "markdown",
   "metadata": {},
   "source": [
    "# Q1"
   ]
  },
  {
   "cell_type": "code",
   "execution_count": 2,
   "metadata": {},
   "outputs": [],
   "source": [
    "using Random, Distributions\n",
    "using Printf\n",
    "\n"
   ]
  },
  {
   "cell_type": "markdown",
   "metadata": {},
   "source": [
    "$$ x_0 = 0 , \\gamma = 1$$\n",
    "$$ f(x)(Cauchy \\hspace{0.1cm} Distribution)  =\\frac{1}{\\pi (1 + x^2)}$$\n",
    "$$ g(x)(Standard \\hspace{0.1cm}Normal \\hspace{0.1cm} Distribution) =  \\frac{1}{\\sqrt{2\\pi}} \\exp{ \\frac{-x^2}{2}}     $$\n",
    "$$ h(x) = x$$\n",
    "\n",
    "$$ \\hat{\\theta} = \\frac{1}{N}\\sum\\limits_{i=1}^{N}x \\frac{\\sqrt{2\\pi}\\exp{ \\frac{x^2}{2}}}{\\pi (1 + x^2)}$$\n",
    "\n",
    "\n",
    "$$ Here \\hspace{0.1cm}  \\sup \\frac{f(x)}{g(x)} \\hspace{0.1cm} goes \\hspace{0.1cm} to \\hspace{0.1cm} \\infty $$"
   ]
  },
  {
   "cell_type": "code",
   "execution_count": 3,
   "metadata": {},
   "outputs": [
    {
     "data": {
      "text/plain": [
       "sample0 (generic function with 1 method)"
      ]
     },
     "execution_count": 3,
     "metadata": {},
     "output_type": "execute_result"
    }
   ],
   "source": [
    "\n",
    "function sample0(x)\n",
    "    l = x*pdf(Cauchy(),x)/pdf(Normal(),x)\n",
    "    return l\n",
    "end"
   ]
  },
  {
   "cell_type": "code",
   "execution_count": 4,
   "metadata": {},
   "outputs": [
    {
     "data": {
      "text/plain": [
       "imp_samp (generic function with 1 method)"
      ]
     },
     "execution_count": 4,
     "metadata": {},
     "output_type": "execute_result"
    }
   ],
   "source": [
    "function imp_samp(n,r)\n",
    "    \n",
    "    est = Array{Float64,1}(undef, r)\n",
    "    fun = Array{Float64,1}(undef, n)\n",
    "\n",
    "    for i in 1:r\n",
    "        for i in 1:n\n",
    "            x = rand(Normal())\n",
    "            fun[i] = sample0(x)\n",
    "        end\n",
    "        est[i] = mean(fun)\n",
    "    end\n",
    "    \n",
    "    return var(est)\n",
    "end"
   ]
  },
  {
   "cell_type": "code",
   "execution_count": 16,
   "metadata": {},
   "outputs": [
    {
     "data": {
      "text/plain": [
       "0.7142076721809499"
      ]
     },
     "execution_count": 16,
     "metadata": {},
     "output_type": "execute_result"
    }
   ],
   "source": [
    "var_est = imp_samp(10000,1000) "
   ]
  },
  {
   "cell_type": "code",
   "execution_count": 17,
   "metadata": {},
   "outputs": [
    {
     "data": {
      "text/plain": [
       "7142.0767218095"
      ]
     },
     "execution_count": 17,
     "metadata": {},
     "output_type": "execute_result"
    }
   ],
   "source": [
    "n*var_est"
   ]
  },
  {
   "cell_type": "markdown",
   "metadata": {},
   "source": [
    "Variance is very high."
   ]
  },
  {
   "cell_type": "markdown",
   "metadata": {},
   "source": [
    "# Q2"
   ]
  },
  {
   "cell_type": "markdown",
   "metadata": {},
   "source": [
    "1.\n",
    "\n",
    "\n",
    "2. Variance of Importance sampling is lower than that of the Accept-Reject Sampling.\n",
    "   Also importance sampling does not have to reject any value so it is faster."
   ]
  },
  {
   "cell_type": "markdown",
   "metadata": {},
   "source": [
    "# Q3"
   ]
  },
  {
   "cell_type": "code",
   "execution_count": 7,
   "metadata": {},
   "outputs": [
    {
     "data": {
      "text/plain": [
       "TaskLocalRNG()"
      ]
     },
     "execution_count": 7,
     "metadata": {},
     "output_type": "execute_result"
    }
   ],
   "source": [
    "Random.seed!(1)"
   ]
  },
  {
   "cell_type": "code",
   "execution_count": 14,
   "metadata": {},
   "outputs": [
    {
     "data": {
      "text/plain": [
       "6.3787584505357285e-6"
      ]
     },
     "execution_count": 14,
     "metadata": {},
     "output_type": "execute_result"
    }
   ],
   "source": [
    "n0 = 50\n",
    "n = 10000\n",
    "y = rand(TDist(v),n0)\n",
    "\n",
    "function target(x,y,v,n0)\n",
    "    draw = exp(-(x^2)/2)\n",
    "    for i in 1:n0\n",
    "        draw = draw*((1 + ((y[i]-x)^2)/v)^(-(v+1)/2))\n",
    "    end\n",
    "    return draw\n",
    "end\n",
    "\n",
    "\n",
    "function wimp_samp(n,r,v)  \n",
    "    est = Array{Float64,1}(undef, r)\n",
    "    fun = Array{Float64,1}(undef, n)\n",
    "    fun1 = Array{Float64,1}(undef, n)\n",
    "    \n",
    "    for i in 1:r\n",
    "        for j in 1:n\n",
    "            x = rand(Normal())\n",
    "            fun[j] = x*target(x,y,v,n0)/pdf(Normal(),x)\n",
    "            fun1[j] = target(x,y,v,n0)/pdf(Normal(),x)\n",
    "        end\n",
    "        est[i] = sum(fun)/sum(fun1)\n",
    "    end\n",
    "    \n",
    "    return var(est)\n",
    "end\n",
    "\n",
    "wimp_samp(10000,1000,5)"
   ]
  },
  {
   "cell_type": "code",
   "execution_count": 12,
   "metadata": {},
   "outputs": [
    {
     "data": {
      "text/plain": [
       "7.0126906190498705e-6"
      ]
     },
     "execution_count": 12,
     "metadata": {},
     "output_type": "execute_result"
    }
   ],
   "source": [
    "wimp_samp(10000,1000,2)"
   ]
  },
  {
   "cell_type": "code",
   "execution_count": 13,
   "metadata": {},
   "outputs": [
    {
     "data": {
      "text/plain": [
       "7.382623774921695e-6"
      ]
     },
     "execution_count": 13,
     "metadata": {},
     "output_type": "execute_result"
    }
   ],
   "source": [
    "wimp_samp(10000,1000,1)"
   ]
  },
  {
   "cell_type": "markdown",
   "metadata": {},
   "source": [
    "Variance is quite small. "
   ]
  },
  {
   "cell_type": "markdown",
   "metadata": {},
   "source": [
    "# Q4"
   ]
  },
  {
   "cell_type": "markdown",
   "metadata": {},
   "source": [
    "$$Posterior Distribution : Gamma(\\alpha+\\sum y_i,\\beta+n)$$"
   ]
  }
 ],
 "metadata": {
  "kernelspec": {
   "display_name": "Julia 1.7.2",
   "language": "julia",
   "name": "julia-1.7"
  },
  "language_info": {
   "file_extension": ".jl",
   "mimetype": "application/julia",
   "name": "julia",
   "version": "1.7.2"
  }
 },
 "nbformat": 4,
 "nbformat_minor": 4
}
