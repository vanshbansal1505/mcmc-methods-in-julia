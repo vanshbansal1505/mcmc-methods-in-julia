{
 "cells": [
  {
   "cell_type": "code",
   "execution_count": 2,
   "id": "dbf4a791",
   "metadata": {},
   "outputs": [],
   "source": [
    "## Question 1"
   ]
  },
  {
   "cell_type": "code",
   "execution_count": 3,
   "id": "04df073f",
   "metadata": {},
   "outputs": [
    {
     "data": {
      "text/plain": [
       "TaskLocalRNG()"
      ]
     },
     "execution_count": 3,
     "metadata": {},
     "output_type": "execute_result"
    }
   ],
   "source": [
    "using Random, Distributions\n",
    "using SpecialFunctions\n",
    "using LinearAlgebra\n",
    "using Plots\n",
    "Random.seed!(1)"
   ]
  },
  {
   "cell_type": "code",
   "execution_count": 4,
   "id": "c52ddaea",
   "metadata": {},
   "outputs": [
    {
     "data": {
      "text/plain": [
       "run1 (generic function with 1 method)"
      ]
     },
     "execution_count": 4,
     "metadata": {},
     "output_type": "execute_result"
    }
   ],
   "source": [
    "function run1(N)\n",
    "    A = zeros(N)\n",
    "    tdist = Cauchy(0, 1)\n",
    "    actual_mean = 0\n",
    "    pdist = Normal(0, 1)\n",
    "    for i in 1:N\n",
    "        U = rand(pdist)\n",
    "        A[i] = (U * pdf(tdist, U))/ pdf(pdist, U)\n",
    "    end\n",
    "    return mean(A)\n",
    "end"
   ]
  },
  {
   "cell_type": "code",
   "execution_count": 5,
   "id": "ec64b3f3",
   "metadata": {},
   "outputs": [
    {
     "data": {
      "text/plain": [
       "0.001299473004333613"
      ]
     },
     "execution_count": 5,
     "metadata": {},
     "output_type": "execute_result"
    }
   ],
   "source": [
    "run1(100000)"
   ]
  },
  {
   "cell_type": "code",
   "execution_count": 6,
   "id": "990c66a1",
   "metadata": {},
   "outputs": [],
   "source": [
    "# For variance"
   ]
  },
  {
   "cell_type": "markdown",
   "id": "c765c4d5",
   "metadata": {},
   "source": [
    "$ f -> Standard \\, Cauchy \\, Distribution $\n",
    "\n",
    "$ g -> Standard \\, Normal \\, Distribution $\n",
    "\n",
    "$ \\dfrac{f}{g}  = \\dfrac{2^{1/2}e^{x^2/2}}{\\pi^{1/2}(1+x^2)} $\n",
    "\n",
    "$ Now \\, this \\, ratio \\, is \\, not \\, bounded \\,so \\, we \\, can't \\, know \\, for \\, sure \\, whether \\, variance \\, would \\, be \\, finite \\, or \\, not $ \n",
    "\n",
    "$ So \\, we \\, have \\, to \\, calculate \\, it $"
   ]
  },
  {
   "cell_type": "code",
   "execution_count": 7,
   "id": "0ecb8e1c",
   "metadata": {},
   "outputs": [
    {
     "data": {
      "text/plain": [
       "run2 (generic function with 1 method)"
      ]
     },
     "execution_count": 7,
     "metadata": {},
     "output_type": "execute_result"
    }
   ],
   "source": [
    "function run2(N)\n",
    "    ests = zeros(N)\n",
    "    for i in 1:N\n",
    "        ests[i] = run1(100000)\n",
    "    end\n",
    "    println(\"Mean of the estimator: \", mean(ests))\n",
    "    println(\"Variance of the estimator: \", N*var(ests))\n",
    "end"
   ]
  },
  {
   "cell_type": "code",
   "execution_count": 9,
   "id": "e2352d96",
   "metadata": {},
   "outputs": [
    {
     "name": "stdout",
     "output_type": "stream",
     "text": [
      "Mean of the estimator: 0.01215597091119013\n",
      "Variance of the estimator: 144093.09719400966\n"
     ]
    }
   ],
   "source": [
    "run2(10000)"
   ]
  },
  {
   "cell_type": "markdown",
   "id": "97e21cbc",
   "metadata": {},
   "source": [
    "$ Conclusion - $\n",
    "\n",
    "$ Mean \\, of \\, the \\, estimator \\, is \\, very \\, close \\, to \\, actual \\, mean \\, i.e. 0 $\n",
    "\n",
    "$ Variance \\, of \\, the \\, estimator \\, is \\, very \\, large $"
   ]
  },
  {
   "cell_type": "code",
   "execution_count": null,
   "id": "d16e984f",
   "metadata": {},
   "outputs": [],
   "source": [
    "## Question 2"
   ]
  },
  {
   "cell_type": "markdown",
   "id": "c12cf3aa",
   "metadata": {},
   "source": [
    "$ a. Even \\, if \\, the \\, variance \\, of \\, the \\, finite \\, sample \\, variance \\, is \\, finite \\, we \\, can't \\, know \\, for \\, sure \\, whether \\, it \\, would \\, be \\, finite \\, or \\, not. $\n",
    "\n",
    "$  \\, \\, As \\, there \\, is \\, second \\, term \\, (Var_g(w)/(E_g(w))^2) \\, which \\, we \\, don't \\, know \\, would \\, be \\, finite \\, or \\, not . $\n",
    "\n",
    "$ b. Time \\, taken \\, to \\, get \\, an \\, acceptance \\, would \\, be \\, less \\, for \\, importance \\, sampling \\, as \\, compare \\, to \\, accept\\, reject $"
   ]
  },
  {
   "cell_type": "code",
   "execution_count": 9,
   "id": "6ff8ac70",
   "metadata": {},
   "outputs": [],
   "source": [
    "## Question 3"
   ]
  },
  {
   "cell_type": "code",
   "execution_count": 10,
   "id": "4bf07f4c",
   "metadata": {},
   "outputs": [
    {
     "data": {
      "text/plain": [
       "run3 (generic function with 1 method)"
      ]
     },
     "execution_count": 10,
     "metadata": {},
     "output_type": "execute_result"
    }
   ],
   "source": [
    "n = 50\n",
    "y = zeros(n)\n",
    "function run3(dof)\n",
    "    dist = TDist(dof)\n",
    "    for i in 1:n\n",
    "        U = rand(dist)\n",
    "        y[i] = U\n",
    "    end\n",
    "end"
   ]
  },
  {
   "cell_type": "code",
   "execution_count": 11,
   "id": "34dec747",
   "metadata": {},
   "outputs": [
    {
     "data": {
      "text/plain": [
       "F (generic function with 1 method)"
      ]
     },
     "execution_count": 11,
     "metadata": {},
     "output_type": "execute_result"
    }
   ],
   "source": [
    "function F(x, dof)\n",
    "    z = exp((-x^2)/2)\n",
    "    for i in 1:n\n",
    "        z = z*((1 + ((y[i] - x)^2)/dof)^((-(dof + 1))/2))\n",
    "    end\n",
    "    return z\n",
    "end"
   ]
  },
  {
   "cell_type": "code",
   "execution_count": 12,
   "id": "22292157",
   "metadata": {},
   "outputs": [
    {
     "data": {
      "text/plain": [
       "Normal{Float64}(μ=0.0, σ=1.0)"
      ]
     },
     "execution_count": 12,
     "metadata": {},
     "output_type": "execute_result"
    }
   ],
   "source": [
    "prdist = Normal(0, 1)"
   ]
  },
  {
   "cell_type": "code",
   "execution_count": 13,
   "id": "cbbeb49e",
   "metadata": {},
   "outputs": [
    {
     "data": {
      "text/plain": [
       "run4 (generic function with 1 method)"
      ]
     },
     "execution_count": 13,
     "metadata": {},
     "output_type": "execute_result"
    }
   ],
   "source": [
    "function run4(n, dof)\n",
    "    x = zeros(n)\n",
    "    y = zeros(n)\n",
    "    for i in 1:n\n",
    "        U = rand(prdist)\n",
    "        x[i] = (U * F(U, dof))/(pdf(prdist, U)*((2*π)^(1/2)))\n",
    "        y[i] = F(U, dof)/(pdf(prdist, U)*((2*π)^(1/2)))\n",
    "    end\n",
    "    return sum(x)/sum(y)\n",
    "end"
   ]
  },
  {
   "cell_type": "code",
   "execution_count": 27,
   "id": "78fe4f93",
   "metadata": {},
   "outputs": [
    {
     "data": {
      "text/plain": [
       "run5 (generic function with 1 method)"
      ]
     },
     "execution_count": 27,
     "metadata": {},
     "output_type": "execute_result"
    }
   ],
   "source": [
    "function run5(N, dof)\n",
    "    Ests = zeros(N)\n",
    "    for i in 1:N\n",
    "        Ests[i] = run4(1000, dof)\n",
    "    end\n",
    "    println(\"Mean of the estimator: \", mean(Ests))\n",
    "    println(\"Variance of the estimator: \", N*var(Ests))\n",
    "end"
   ]
  },
  {
   "cell_type": "code",
   "execution_count": 28,
   "id": "375fb33c",
   "metadata": {},
   "outputs": [
    {
     "data": {
      "text/plain": [
       "run6 (generic function with 1 method)"
      ]
     },
     "execution_count": 28,
     "metadata": {},
     "output_type": "execute_result"
    }
   ],
   "source": [
    "function run6(dof)\n",
    "    run3(dof)\n",
    "    run5(100, dof)\n",
    "end"
   ]
  },
  {
   "cell_type": "code",
   "execution_count": 29,
   "id": "ed3fb73d",
   "metadata": {},
   "outputs": [
    {
     "name": "stdout",
     "output_type": "stream",
     "text": [
      "Mean of the estimator: -0.07236303298862715\n",
      "Variance of the estimator: 0.005729189465021079\n"
     ]
    }
   ],
   "source": [
    "# Degree of freedom = 5\n",
    "run6(5)"
   ]
  },
  {
   "cell_type": "code",
   "execution_count": 17,
   "id": "d1166317",
   "metadata": {},
   "outputs": [
    {
     "name": "stdout",
     "output_type": "stream",
     "text": [
      "Mean of the estimator: 0.041554222158442206\n",
      "Variance of the estimator: 0.0064801101889798195\n"
     ]
    }
   ],
   "source": [
    "# Degree of freedom = 1\n",
    "run6(1)"
   ]
  },
  {
   "cell_type": "code",
   "execution_count": 18,
   "id": "9765f818",
   "metadata": {},
   "outputs": [
    {
     "name": "stdout",
     "output_type": "stream",
     "text": [
      "Mean of the estimator: 0.1703410909831857\n",
      "Variance of the estimator: 0.006681355114323175\n"
     ]
    }
   ],
   "source": [
    "# Degree of freedom  = 6\n",
    "run6(2)"
   ]
  },
  {
   "cell_type": "code",
   "execution_count": 19,
   "id": "a34e6254",
   "metadata": {},
   "outputs": [],
   "source": [
    "## Question 4"
   ]
  },
  {
   "cell_type": "markdown",
   "id": "812f3d1f",
   "metadata": {},
   "source": [
    "$ f -> Prior \\, distribution = Gamma(\\alpha , \\beta) $\n",
    "\n",
    "$ g -> Poisson(\\lambda) $\n",
    "\n",
    "$ F -> Posterior \\, distribution \\propto \\, Gamma(\\lambda) \\, \\, {\\prod_{n=1}^{N} Poisson(y_i/\\lambda)}$\n",
    "\n",
    "$ F \\propto \\dfrac{\\lambda^{\\alpha-1} \\, e^{-\\lambda\\, /\\beta}}{\\Gamma(x) \\, \\beta ^{\\alpha}} \\, \\mathbb{I}(\\lambda > 0) \\,  \\prod_{n=1}^{N} \\dfrac{\\lambda^{y_i} \\, e^{-\\lambda}}{y_i !}$"
   ]
  },
  {
   "cell_type": "code",
   "execution_count": 20,
   "id": "f97e1271",
   "metadata": {},
   "outputs": [],
   "source": [
    "# After simplifying"
   ]
  },
  {
   "cell_type": "markdown",
   "id": "bf238de2",
   "metadata": {},
   "source": [
    "$ F \\propto \\lambda^{(\\sum_{n=1}^{N} y_i \\, + \\, \\alpha \\, - \\, 1)} \\, e^{-\\lambda \\, (\\dfrac{1}{\\beta} \\, + \\, N)} $ \n",
    "\n",
    "$ F = Posterior \\sim Gamma \\, (\\sum y_i + \\alpha \\, , \\, \\dfrac{\\beta}{1 + N\\beta})$"
   ]
  }
 ],
 "metadata": {
  "kernelspec": {
   "display_name": "Julia 1.7.2",
   "language": "julia",
   "name": "julia-1.7"
  },
  "language_info": {
   "file_extension": ".jl",
   "mimetype": "application/julia",
   "name": "julia",
   "version": "1.7.2"
  }
 },
 "nbformat": 4,
 "nbformat_minor": 5
}
