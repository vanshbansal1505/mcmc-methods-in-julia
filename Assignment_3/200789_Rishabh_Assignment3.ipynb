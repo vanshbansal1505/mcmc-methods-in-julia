{
 "cells": [
  {
   "cell_type": "markdown",
   "id": "f87ac68d",
   "metadata": {},
   "source": [
    "<h1><center>MCMC in Julia</center></h1>\n",
    "<h2><center>Assignment #3<center></h2>\n",
    "    "
   ]
  },
  {
   "cell_type": "markdown",
   "id": "2d17044e",
   "metadata": {},
   "source": [
    "<h6>Q1: Estimating the mean of of a standard Cauchy distribution using importance sampling with a normal proposal distribution.</h6>"
   ]
  },
  {
   "cell_type": "markdown",
   "id": "feb480e1",
   "metadata": {},
   "source": [
    "Since the mean and variance of a Cauchy distribution is not defined, it cannot have finite variance in this case as well."
   ]
  },
  {
   "cell_type": "markdown",
   "id": "51694dce",
   "metadata": {},
   "source": [
    "<h6>Q2(a):</h6>"
   ]
  },
  {
   "cell_type": "markdown",
   "id": "f27ebf7a",
   "metadata": {},
   "source": [
    "Since the simple importance estimator has a finite variance, therefore the samples are bounded, hence the weighted importance sample is also bounded."
   ]
  },
  {
   "cell_type": "markdown",
   "id": "439ee2b0",
   "metadata": {},
   "source": [
    "<h6>Q2(b):</h6>"
   ]
  },
  {
   "cell_type": "markdown",
   "id": "8b8a1010",
   "metadata": {},
   "source": [
    "While using the accept reject method to estimate the mean of a target distribution, we go through multiple iterations with no certainty of obtaining a result even after multiple iterations,whereas in the case of an importance sampler, the proposal distribution provides result in each of the iterations."
   ]
  },
  {
   "cell_type": "markdown",
   "id": "8872bbb0",
   "metadata": {},
   "source": [
    "<h6>Q4:Suppose Y1, Y2, ... , Yn | 𝜆 Poisson(𝜆) (iid draws) and the prior 𝜆 Gamma(𝛼, 𝛽), where 𝛼, 𝛽 are known. What is the posterior distribution of 𝜆 ?\n",
    "</h6>"
   ]
  },
  {
   "cell_type": "markdown",
   "id": "43403375",
   "metadata": {},
   "source": [
    "Prior Distribution: $ f_{y}(\\lambda )=\\frac{\\beta ^{\\alpha }\\lambda ^{\\alpha -1}exp\\left ( -\\beta \\lambda  \\right )}{\\Gamma \\left ( \\alpha  \\right )} $"
   ]
  },
  {
   "cell_type": "markdown",
   "id": "efaa6366",
   "metadata": {},
   "source": [
    "Likelihood function is given by: $ f_{y|\\lambda }(y_{1},y_{2},....,y_{n}|\\lambda )=\\frac{\\lambda ^{x_{i}}exp\\left (-\\lambda  \\right )}{y_{i}!} $"
   ]
  },
  {
   "cell_type": "markdown",
   "id": "4c418995",
   "metadata": {},
   "source": [
    "Dropping proportionality constants and using Bayesian analysis: \n",
    "$ f_{\\lambda|y }(\\lambda|y_{1},y_{2},....,y_{n} )\\propto f_{y|\\lambda }(y_{1},y_{2},....,y_{n}|\\lambda )f_{y}(\\lambda )\\propto\\lambda ^{y_{i}}exp\\left (-\\lambda  \\right )\\times \\lambda ^{(\\alpha-1)}exp(-\\beta \\lambda)=\\lambda^{x+\\alpha-1}exp-(n+\\beta)\\lambda $"
   ]
  },
  {
   "cell_type": "markdown",
   "id": "203e3f10",
   "metadata": {},
   "source": [
    "where $x=y_{1}+y_{2}+.....+y_{n}$ "
   ]
  },
  {
   "cell_type": "markdown",
   "id": "e3e8e3e0",
   "metadata": {},
   "source": [
    "This is proportional to the PDF of $Gamma(x+\\alpha,n+\\beta)$"
   ]
  },
  {
   "cell_type": "markdown",
   "id": "8e44e94b",
   "metadata": {},
   "source": [
    "This is the posterior distribution for the given source. \n"
   ]
  },
  {
   "cell_type": "code",
   "execution_count": null,
   "id": "d602d244",
   "metadata": {},
   "outputs": [],
   "source": []
  }
 ],
 "metadata": {
  "kernelspec": {
   "display_name": "Julia 1.7.2",
   "language": "julia",
   "name": "julia-1.7"
  },
  "language_info": {
   "file_extension": ".jl",
   "mimetype": "application/julia",
   "name": "julia",
   "version": "1.7.2"
  }
 },
 "nbformat": 4,
 "nbformat_minor": 5
}
