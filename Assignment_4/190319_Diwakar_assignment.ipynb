{
 "cells": [
  {
   "cell_type": "markdown",
   "id": "279855cd",
   "metadata": {},
   "source": [
    "# QUESTION 1"
   ]
  },
  {
   "cell_type": "markdown",
   "id": "481481ba",
   "metadata": {},
   "source": [
    "iid draws is better estimator and has smaller variance because \n",
    "$Y_i$ are identically distributed under stationary distribution but they are dependent on each other (samples are correlated) so $Y_i$ don't actually follow F but $X_i$ does follow F."
   ]
  },
  {
   "cell_type": "markdown",
   "id": "d7ad8c9a",
   "metadata": {},
   "source": [
    "# QUESTION 2"
   ]
  },
  {
   "cell_type": "markdown",
   "id": "eebeaa47",
   "metadata": {},
   "source": [
    "## (a)"
   ]
  },
  {
   "cell_type": "markdown",
   "id": "5a461934",
   "metadata": {},
   "source": [
    "$f(\\mu , \\nu | y_1 , y_2 , ..., y_n) = f(y_1 , y_2 , ..., y_n | \\mu) f(\\mu | \\nu) f(\\nu)$ <br>\n",
    "\n",
    "$f(\\mu , \\nu | y_1 , y_2 , ..., y_n) = [ \\prod_{i}^{} e^{-\\frac{(y_i - \\mu)^2)}{2}} ] \\frac{\\Gamma (\\frac{\\nu+1}{2}}{(\\nu\\pi)^{0.5} \\Gamma (\\frac{\\nu}{2})} (1+\\frac{\\mu^2}{\\nu})^{(\\frac{\\nu+1}{2})} \\frac{\\nu^{\\alpha-1}\\beta^\\alpha e^{\\beta\\nu}}{\\Gamma(\\alpha)}$ <br>\n",
    "\n",
    "\n"
   ]
  },
  {
   "cell_type": "markdown",
   "id": "a6c1155f",
   "metadata": {},
   "source": [
    "## (b) and (c)"
   ]
  },
  {
   "cell_type": "code",
   "execution_count": 15,
   "id": "9ec7aa67",
   "metadata": {},
   "outputs": [
    {
     "data": {
      "text/plain": [
       "target (generic function with 1 method)"
      ]
     },
     "execution_count": 15,
     "metadata": {},
     "output_type": "execute_result"
    }
   ],
   "source": [
    "using Distributions\n",
    "using SpecialFunctions\n",
    "function target(y, mu, nu, a, b)\n",
    "    ans = exp(-(sum((y-mu).^2))/2)*(gamma((nu+1)/2)/(sqrt(nu*pi))*gamma(nu/2))*((1+(mu^2)/nu)^(-(nu+1)/2))*(nu^(a-1))*(b^a)*(exp(-b*nu))/gamma(a)\n",
    "    return ans\n",
    "    end\n"
   ]
  },
  {
   "cell_type": "code",
   "execution_count": null,
   "id": "73a3e449",
   "metadata": {},
   "outputs": [],
   "source": [
    "# let y be given dataset\n",
    "y = Float64[]\n",
    "for j in 1:50\n",
    "    temp = readline()      #number of samples\n",
    "    temp = parse(Int64, y) \n",
    "    push!(y,temp)\n",
    "end\n",
    "# let unifrom distribution U(x-h,x+h) be proposal distributions for μ and ν\n",
    "a = readline()      # value of alpha\n",
    "b = readline()      # value of beta\n",
    "n = readline()   #number of smaples\n",
    "musamples = Float64[]\n",
    "musamples[1]= mean(y)\n",
    "nusamples = Float64[]\n",
    "musamples[1]= 6\n",
    "\n",
    "for i in 2:n\n",
    "    muprop = rand(Uniform(musamples[i-1]-1,musamples[i-1]+1),1)\n",
    "    nuprop = rand(Uniform(nusamples[i-1]-1,nusamples[i-1]+1),1)\n",
    "    U = rand()\n",
    "    ratio = (target(y, muprop, nuprop, a, b))/target(y, musamples[i-1], nusamples[i-1], a, b)\n",
    "    if (U<ratio)\n",
    "        musamples[i]=muprop\n",
    "        nusamples[i]=nuprop\n",
    "    else\n",
    "        musamples[i] = musamples[i-1]\n",
    "        nusamples[i] = nusamples[i-1]\n",
    "    end\n",
    "end"
   ]
  },
  {
   "cell_type": "markdown",
   "id": "3f4d6e1b",
   "metadata": {},
   "source": [
    "\n",
    "# QUESTION 3"
   ]
  },
  {
   "cell_type": "markdown",
   "id": "d9921ebc",
   "metadata": {},
   "source": [
    "$f(\\beta , \\sigma ^2 | y_1 , y_2 , ..., y_n) = f(y_1 , y_2 , ..., y_n | \\beta , \\sigma ^2) f(\\beta) f(\\sigma ^2)$ <br>\n",
    "$f(\\beta , \\sigma ^2 | y_1 , y_2 , ..., y_n) = [ \\prod_{i}^{} e^{-\\frac{(Y_i - X\\beta)\\sum_{}^{-1}(Y_i - X\\beta)}{\\sigma^2*I_p}} ][ \\prod_{i}^{} e^{-\\frac{(\\beta - \\mu)\\sum_{}^{-1}(\\beta - \\mu)}{\\sigma^2*I_p}} ] (\\frac{1}{\\sigma^2})exp(\\frac{-b}{\\sigma^2})$"
   ]
  },
  {
   "cell_type": "code",
   "execution_count": null,
   "id": "d041e4fd",
   "metadata": {},
   "outputs": [],
   "source": []
  }
 ],
 "metadata": {
  "kernelspec": {
   "display_name": "Julia 1.7.2",
   "language": "julia",
   "name": "julia-1.7"
  },
  "language_info": {
   "file_extension": ".jl",
   "mimetype": "application/julia",
   "name": "julia",
   "version": "1.7.2"
  }
 },
 "nbformat": 4,
 "nbformat_minor": 5
}
