{
 "cells": [
  {
   "cell_type": "markdown",
   "id": "88ef1d99",
   "metadata": {},
   "source": [
    "<h1><center>MCMC in Julia</center></h1>\n",
    "<h2><center>Assignment #4<center></h2>"
   ]
  },
  {
   "cell_type": "markdown",
   "id": "082c2848",
   "metadata": {},
   "source": [
    "<h4>Q1: Which estimator is better?</h4>"
   ]
  },
  {
   "cell_type": "markdown",
   "id": "2515acaf",
   "metadata": {},
   "source": [
    "For $X_{1},X_{2},.......,X_{n} \\sim F (iid)$ , estimate of the mean = $\\overline{X} = \\frac{1}{n}\\sum_{i=1}^{n}X_{i}$ .<br>\n",
    "Actual mean $\\mu=E(X_{i})$<br>\n",
    "The sample mean $\\overline{X}$ in an unbiased estimator.<br>\n",
    "    Now using the relation $var(\\overline{X_n})=E((\\overline{X_n}-E(\\overline{X_n}))^2) = E((\\overline{X}-\\mu)^2)$\n",
    "    \n",
    "   For the case where $Y_{1},Y_{2},.......,Y_{n} $ is a Markov Chain with $F$ as stationary distribution:<br>\n",
    "   Estimate of the mean :$\\overline{Y} = \\frac{1}{n}\\sum_{i=1}^{n}Y_{i}$ \n",
    "   \n",
    "   \n",
    "    "
   ]
  },
  {
   "cell_type": "markdown",
   "id": "edad5cad",
   "metadata": {},
   "source": [
    "<h4>Q2:(a) Joint Posterior Distribution</h4>\n"
   ]
  },
  {
   "cell_type": "markdown",
   "id": "d64dcbe2",
   "metadata": {},
   "source": [
    "Let the joint posterior distribution be given by $\\pi(\\mu,\\nu|Y)$, where $Y = (y_{1},y_{2},....,y_{n})$<br>\n",
    "Now $\\pi((\\mu,\\nu)|Y) \\propto \\pi( Y|(\\mu,\\nu))\\pi(\\mu,\\nu) \\propto \\pi(Y|\\mu)\\pi(\\mu|\\nu)\\pi(\\nu)$<br>"
   ]
  },
  {
   "cell_type": "markdown",
   "id": "eceda5ba",
   "metadata": {},
   "source": [
    "To calculate the posterior,<br>\n",
    "$\\pi(Y|\\mu) \\propto pdf(N(\\mu,1)) \\propto \\prod_{i=0}^{n}\\frac{1}{\\sqrt{2\\pi}}e^{\\frac{-1}{2}{(y_{i}-\\mu)}^{2}}$<br>\n",
    "$\\pi(\\mu|\\nu)\\propto pdf(t_{\\nu})\\propto \\frac{\\Gamma(\\frac{\\nu+1}{2})}{\\sqrt{\\nu\\pi}\\Gamma(\\frac{\\nu}{2})} (1+\\frac{\\mu^{2}}{\\nu})^{-\\frac{\\nu+1}{2}}$<br>\n",
    "$\\pi(\\nu) \\propto \\frac{\\beta^{\\alpha}}{\\Gamma(\\alpha)}\\nu^{\\alpha-1}e^{-\\beta\\nu}I(\\nu>2)$ <br>"
   ]
  },
  {
   "cell_type": "markdown",
   "id": "7a131dc7",
   "metadata": {},
   "source": [
    "Therefore, $\\pi((\\mu,\\nu)|Y) \\propto \\prod_{i=0}^{n}e^{\\frac{-1}{2}{(y_{i}-\\mu)}^{2}} (1+\\frac{\\mu^{2}}{\\nu})\\nu^{\\alpha-1}e^{-\\beta\\nu}$<br>\n",
    "This is the required joint posterior distribution."
   ]
  },
  {
   "cell_type": "code",
   "execution_count": null,
   "id": "08c88101",
   "metadata": {},
   "outputs": [],
   "source": []
  }
 ],
 "metadata": {
  "kernelspec": {
   "display_name": "Julia 1.7.2",
   "language": "julia",
   "name": "julia-1.7"
  },
  "language_info": {
   "file_extension": ".jl",
   "mimetype": "application/julia",
   "name": "julia",
   "version": "1.7.2"
  }
 },
 "nbformat": 4,
 "nbformat_minor": 5
}
