{
 "cells": [
  {
   "cell_type": "markdown",
   "metadata": {},
   "source": [
    "# Assignment 4"
   ]
  },
  {
   "cell_type": "markdown",
   "metadata": {},
   "source": [
    "## Question 1"
   ]
  },
  {
   "cell_type": "markdown",
   "metadata": {},
   "source": [
    "Suppose $X_1,X_2,\\ldots,X_n\\sim F$ (iid draws) and $Y_1,Y_2,\\ldots,Y_n$ is a Markov chain with $F$ as the stationary distribution. Consider two estimates of the mean:\n",
    "$$\n",
    "\\bar{X}=\\frac{1}{n}\\sum_{i=1}^{n}X_i\\text{ and }\\bar{Y}\\frac{1}{n}\\sum_{i=1}^nY_i. \n",
    "$$\n",
    "Which estimator is better? In other words, which estimator has smaller variance? Support your answer with formal mathematical arguments."
   ]
  },
  {
   "cell_type": "markdown",
   "metadata": {},
   "source": [
    "## Answer:"
   ]
  },
  {
   "cell_type": "markdown",
   "metadata": {},
   "source": [
    "Suppose $\\sigma^2$ is the variance of $F$.\\\n",
    "Then from the Central Limit Theorem, $\\bar{X}$ is a Normal Distribution with the variance \n",
    "$\n",
    "\\frac{\\sigma^2}{n}\n",
    "$\n",
    "However, $Y_i$'s are not perfectly independent, the variance of $\\bar{Y}$ will have a covariance term as well and is given by \n",
    "$\n",
    "\\frac{\\sigma^2}{n}+2\\sum_{k=1}^n\\frac{n-k}{n}\\operatorname{Cov}(Y_1, Y_k)\n",
    "$\n",
    "We see that the former has a smaller variance and is a thus better estimator.\\\n",
    "[Reference: https://www.stat.umn.edu/geyer/f05/8931/n1998.pdf (Pages: 8-9)]"
   ]
  },
  {
   "cell_type": "markdown",
   "metadata": {},
   "source": [
    "## Question 2"
   ]
  },
  {
   "cell_type": "markdown",
   "metadata": {},
   "source": [
    "Suppose $Y_1,Y_2,\\ldots,Y_n|\\mu\\sim N(\\mu,1)$. Assume the prior on $\\mu\\sim t_v$, where $v$ is the degrees of freedom. Assume the prior on $v\\sim Truncated\\ Gamma(a_0,b_0,(2,\\infty))$, where $(2,\\infty)$ is the support of $Truncated\\ Gamma$.\n",
    "1. What is the joint posterior distribution of $(\\mu,v)$?\n",
    "2. Write an MH algorithm to sample from the above posterior distribution.\n",
    "3. Generate $n=100$ data points. Set $a_0=2,b_0=0.1$, and run the MH algorithm described above. "
   ]
  },
  {
   "cell_type": "markdown",
   "metadata": {},
   "source": [
    "## Answer:"
   ]
  },
  {
   "cell_type": "markdown",
   "metadata": {},
   "source": [
    "1. \n",
    "We have\n",
    "$$\n",
    "\\begin{align*}\n",
    "Y|\\mu&\\sim N(\\mu,1)\\\\\n",
    "\\mu&\\sim t_v\\\\\n",
    "v&\\sim Truncated\\ Gamma(a_0,b_0,(2,\\infty))\n",
    "\\end{align*}\n",
    "$$\n",
    "We want\n",
    "$$\n",
    "\\begin{align*}\n",
    "q(\\mu,v|Y)&\\propto f(Y|\\mu,v)\\pi(\\mu,v)\\\\\n",
    "&\\propto f(Y|\\mu)f(\\mu|v)f(v)\\\\\n",
    "&\\propto \\prod_{i=1}^n{\\frac{1}{\\sqrt{2\\pi}}e^{\\frac{-(Y_i-\\mu)^2}{2}}}\\cdot \\frac{\\Gamma(\\frac{v+1}{2})}{\\sqrt{v\\pi}\\Gamma(\\frac{v}{2})}\\left(1+\\frac{\\mu^2}{v}\\right)^{-\\frac{v+1}{2}}\\cdot \\frac{{b_0}^{a_0}}{\\Gamma{a_0}}\\gamma(a_0,b_0v)I(2<v<\\infty)\n",
    "\\end{align*}\n",
    "$$"
   ]
  },
  {
   "cell_type": "markdown",
   "metadata": {},
   "source": [
    "## Question 3"
   ]
  },
  {
   "cell_type": "markdown",
   "metadata": {},
   "source": [
    "Consider the Bayesian linear regression model. The likelihood is \n",
    "$$\n",
    "y_1,y_2,\\ldots,y_n|\\beta,\\sigma^2\\sim N_n(X\\beta,\\sigma^2I_n)\n",
    "$$\n",
    "The parameters of interest are $\\beta,\\sigma^2$, just like regular MLE. We assume priors:\n",
    "$$\n",
    "\\beta\\sim N_p(\\mu,\\sigma^2I_p)\\text{ and }\\sigma^2\\sim Inverse\\ Gamma(a, b).\n",
    "$$\n",
    "$N_p$ is the $p$-dimensional multivariate normal distribution and the density of $Inverse\\ Gamma(a,b)$ is given by:\n",
    "$$\n",
    "\\pi(\\sigma^2)\\propto\\left(\\frac{1}{\\sigma^2}\\right)^{-a+1}e^{-b/\\sigma^2}\n",
    "$$\n",
    "Here $a,b$ and $\\mu$ are hyper-parameters, which need to be chosen according to the dataset.\n",
    "1. What is the posterior distribution of  $(\\beta,\\sigma^2)$?\n",
    "2. Implement an MH algorithm to sample from the posterior distribution for any suitable dataset (for example, Boston-housing dataset, etc.)\n"
   ]
  },
  {
   "cell_type": "markdown",
   "metadata": {},
   "source": [
    "## Answer:"
   ]
  },
  {
   "cell_type": "markdown",
   "metadata": {},
   "source": []
  }
 ],
 "metadata": {
  "kernelspec": {
   "display_name": "Julia 1.7.2",
   "language": "julia",
   "name": "julia-1.7"
  },
  "language_info": {
   "file_extension": ".jl",
   "mimetype": "application/julia",
   "name": "julia",
   "version": "1.7.2"
  },
  "orig_nbformat": 4
 },
 "nbformat": 4,
 "nbformat_minor": 2
}
