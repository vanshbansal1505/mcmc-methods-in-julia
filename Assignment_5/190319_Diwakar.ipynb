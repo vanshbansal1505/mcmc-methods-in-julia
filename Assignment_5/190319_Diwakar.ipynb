{
 "cells": [
  {
   "cell_type": "markdown",
   "id": "024c9b80",
   "metadata": {},
   "source": [
    "### Section 2\n",
    "Important step to sample a markov chain with $\\pi$(x) as stationary distribution is calculating $\\alpha(x,y) = \\frac{\\pi(y) q(y,x)}{\\pi(x) q(x,y) + \\pi(y) q(y,x)}$ (for Barker's Algorithm). <br>\n",
    "Sometimes, it is not possible to calculate $\\alpha(x,y)$ so we use Bernoulli factory to overcome above problem.<br>\n",
    "Barker's MCMC for $x_{m+1}$ (Algorithm 1)<br>\n",
    "    1. Draw y ~ q($x_{m}$, dy)<br>\n",
    "    2. Draw A ~ Bern ($\\alpha(x_m,y)$<br>\n",
    "    3. if A=1 then <br>\n",
    "               $x_{m+1}$ = y<br>\n",
    "    4. if A=0 then <br>\n",
    "               $x_{m+1}$ = $x_m$<br>\n",
    "               \n",
    "To compute step 2 in algorithm 1, <br>\n",
    "First we take $\\pi(x) q(x,y) = c_x p_x$ & $\\pi(y) q(y,x) = c_x p_y$ <br>\n",
    "with $c_x$ and $c_y$ being the local bound. <br>\n",
    "To calculate $c_x$ and $p_x$, <br>\n",
    "$\\pi(x) q(x,y) < c_x$ and then $p_x = \\pi(x) q(x,y) c_x^{-1}$ <br>\n",
    "Similarly, we can calculate $c_y$ and $p_y$ <br>\n",
    "Therefore now $\\alpha(x,y) = \\frac{c_y p_y}{c_x p_x + c_y p_y}$ <br>\n",
    "Two coin algorithm for $\\alpha(x,y)$ (Algorithm 2)<br>\n",
    "    1. Draw C1 ∼ Bern($\\frac{c_y}{c_y + c_x}$<br>\n",
    "    2. if C1 = 1 then<br>\n",
    "    3.     Draw C2 ∼ Bern($p_y$)<br>\n",
    "    4.     if C2 = 1 then<br>\n",
    "    5.           output 1<br>\n",
    "    6.     if C2 = 0 then<br>\n",
    "    7.           go to Step 1<br>\n",
    "    8. if C1 = 0 then<br>\n",
    "    9.     Draw C2 ∼ Bern($p_x$)<br>\n",
    "    10.    if C2 = 1 then<br>\n",
    "    11.          output 0<br>\n",
    "    12.    if C2 = 0 then<br>\n",
    "    13.          go to Step 1<br>\n"
   ]
  },
  {
   "cell_type": "markdown",
   "id": "603dd342",
   "metadata": {},
   "source": [
    "### Section 3\n",
    "The inefficiency due to two coin algorithm relying on $c_x$ and $c_y$ is solved by using Portkey's Barker method.<br>\n",
    "This method provides significant computational gains and an efficient Bernoulli factory. <br>\n",
    "Here, <br>\n",
    "    $\\alpha(x,y) = \\frac{\\pi(y) q(y,x)}{\\pi(x) q(x,y) + \\pi(y) q(y,x) + d(x, y)}$  [d(x,y) = d(x,y)]<br>\n",
    "    d(x, y) = $\\frac{(1-\\beta)(c_x + c_y)}{\\beta}$ <br>\n",
    "For a particular d(x, y) or $\\beta$ Portkey's Barker method is better than previous method. <br>\n",
    "Portkey two-coin algorithm (Algorithm 3)<br>\n",
    "    1. Draw S ∼ Bernoulli($\\beta$)<br>\n",
    "    2. if S = 0 then<br>\n",
    "    3.    &emsp;  output 0<br>\n",
    "    4. if S = 1 then<br>\n",
    "    5. &emsp;     Draw C1 ∼ Bern($\\frac{c_y}{c_x + c_y}$)<br>\n",
    "    6. &emsp;     if C1 = 1 then <br>\n",
    "    7. &emsp;&emsp;           Draw C2 ∼ Bern($p_y$)<br>\n",
    "    8. &emsp;&emsp;           if C2 = 1 then<br>\n",
    "    9. &emsp;&emsp; &emsp;                output 1<br>\n",
    "    10.&emsp;&emsp;         if C2 = 0 then<br>\n",
    "    11.&emsp;&emsp;&emsp;                go to Step 1<br>\n",
    "    12.&emsp;   if C1 = 0 then<br>\n",
    "    13.&emsp;&emsp;          Draw C2 ∼ Bern($p_x$)<br>\n",
    "    14.&emsp;&emsp;          if C2 = 1 then<br>\n",
    "    15.&emsp;&emsp;&emsp;                output 0<br>\n",
    "    16.&emsp;&emsp;         if C2 = 0 then<br>\n",
    "    17.&emsp;&emsp;&emsp;               go to Step 1<br>\n"
   ]
  },
  {
   "cell_type": "markdown",
   "id": "d5bbeab3",
   "metadata": {},
   "source": [
    "### Section 4\n",
    "When we face problem in upper bounding the $\\pi(x) q(x,y)$, we try to lower bound the $\\pi(x) q(x,y)$.<br>\n",
    "Which means upper bound the $\\pi(x)^{-1} q(x,y)^{-1}$ <br>\n",
    "        $\\pi(x)^{-1} q(x,y)^{-1}$ = $\\bar{c_x} \\bar{p_x}$ <br>\n",
    "        d(x,y) = $\\frac{(1-\\beta)(\\bar{c_x} + \\bar{c_y})}{\\beta (\\bar{c_x}\\bar{p_x}\\bar{c_y}\\bar{p_y})}$ <br>\n",
    "Flipped Portkey's two-coin algorithm (Algorithm 3)<br>\n",
    "    1. Draw S ∼ Bernoulli($\\beta$)<br>\n",
    "    2. if S = 0 then<br>\n",
    "    3.    &emsp;  output 0<br>\n",
    "    4. if S = 1 then<br>\n",
    "    5. &emsp;     Draw C1 ∼ Bern($\\frac{\\bar{c_y}}{\\bar{c_x} + \\bar{c_y}}$)<br>\n",
    "    6. &emsp;     if C1 = 1 then <br>\n",
    "    7. &emsp;&emsp;           Draw C2 ∼ Bern($\\bar{p_y}$)<br>\n",
    "    8. &emsp;&emsp;           if C2 = 1 then<br>\n",
    "    9. &emsp;&emsp; &emsp;                output 1<br>\n",
    "    10.&emsp;&emsp;         if C2 = 0 then<br>\n",
    "    11.&emsp;&emsp;&emsp;                go to Step 1<br>\n",
    "    12.&emsp;   if C1 = 0 then<br>\n",
    "    13.&emsp;&emsp;          Draw C2 ∼ Bern($\\bar{p_x}$)<br>\n",
    "    14.&emsp;&emsp;          if C2 = 1 then<br>\n",
    "    15.&emsp;&emsp;&emsp;                output 0<br>\n",
    "    16.&emsp;&emsp;         if C2 = 0 then<br>\n",
    "    17.&emsp;&emsp;&emsp;               go to Step 1<br>"
   ]
  },
  {
   "cell_type": "code",
   "execution_count": null,
   "id": "6cd90a03",
   "metadata": {},
   "outputs": [],
   "source": []
  }
 ],
 "metadata": {
  "kernelspec": {
   "display_name": "Julia 1.7.2",
   "language": "julia",
   "name": "julia-1.7"
  },
  "language_info": {
   "file_extension": ".jl",
   "mimetype": "application/julia",
   "name": "julia",
   "version": "1.7.2"
  }
 },
 "nbformat": 4,
 "nbformat_minor": 5
}
