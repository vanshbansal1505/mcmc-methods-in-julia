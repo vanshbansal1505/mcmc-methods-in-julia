{
 "cells": [
  {
   "cell_type": "markdown",
   "metadata": {},
   "source": [
    "# A1"
   ]
  },
  {
   "cell_type": "markdown",
   "metadata": {},
   "source": [
    "The acceptance probablity for Barker's algorithm is <br>\n",
    "\n",
    "$\\displaystyle{\\alpha_{B}(x,y) = \\frac{\\pi(y)q(y,x)}{\\pi(y)q(y,x)+\\pi(x)q(x,y)}}$"
   ]
  },
  {
   "cell_type": "markdown",
   "metadata": {},
   "source": [
    "The algorithm for obtaining $x_{m+1}$ is <br>\n",
    "Draw $y \\sim q(x_m,dy)$<br>\n",
    "Draw $A \\sim Bern(\\alpha_B(x_m,y))$<br>\n",
    "If $A=1$ then $x_{m+1}=y$<br>\n",
    "If $A=0$ then $x_{m+1}=x_m$"
   ]
  },
  {
   "cell_type": "markdown",
   "metadata": {},
   "source": [
    "For the two coin factory, <br>\n",
    "$\\pi(x)q(x,y)=c_xp_x$ <br>\n",
    "$\\pi(y)q(y,x)=c_yp_y$ <br><br>\n",
    "$\\displaystyle{\\alpha_{B}(x,y)=\\frac{c_xp_x}{c_xp_x+c_yp_y}}$\n"
   ]
  },
  {
   "cell_type": "markdown",
   "metadata": {},
   "source": [
    "We take $ \\pi(x)q(x,y) \\leq c_x$  as the bound\n",
    "<br>\n",
    "The number of loops until the algorithm stops is distributed as a $Geom\\left(\\frac{c_yp_y + c_xp_x}{c_y + c_x}\\right)$"
   ]
  },
  {
   "cell_type": "markdown",
   "metadata": {},
   "source": [
    "The execution time will be large if the constants chosen are large"
   ]
  },
  {
   "cell_type": "markdown",
   "metadata": {},
   "source": [
    "### Portkey Barter"
   ]
  },
  {
   "cell_type": "markdown",
   "metadata": {},
   "source": [
    "The acceptance probablity for this algorithm is"
   ]
  },
  {
   "cell_type": "markdown",
   "metadata": {},
   "source": [
    "$\\displaystyle{\\alpha(x,y)=\\frac{\\pi(y)q(y,x)}{\\pi(x)q(x,y)+\\pi(y)q(y,x)+d(x,y)}}$"
   ]
  },
  {
   "cell_type": "markdown",
   "metadata": {},
   "source": [
    "where $d(x,y)=d(y,x)$"
   ]
  },
  {
   "cell_type": "markdown",
   "metadata": {},
   "source": [
    "For a user chosen $0<\\beta\\leq1$ the portkey borter acceptance probablity is <br>\n",
    "$\\displaystyle{\\alpha_B(x,y) := \\frac{\\pi(y)q(y,x)}{\\pi(x)q(x,y)+\\pi(y)q(y,x)+\\frac{1-\\beta}{\\beta}(c_x+c_y)}}$"
   ]
  },
  {
   "cell_type": "markdown",
   "metadata": {},
   "source": [
    "Here the number of loops is distributed as $Geom(\\mathscr{s}_\\beta)$<br>\n",
    "where $\\mathscr{s}_\\beta = (1-\\beta)-\\beta.\\left(\\frac{c_yp_y + c_xp_x}{c_y + c_x}\\right)$"
   ]
  },
  {
   "cell_type": "markdown",
   "metadata": {},
   "source": [
    "The number of loops is comparable to the original two coin algorithm but here it introduces a first\n",
    "step in the two-coin algorithm that allows immediate rejections with probability $1 - \\beta$ which makes it a bit more "
   ]
  },
  {
   "cell_type": "markdown",
   "metadata": {},
   "source": [
    "$\\beta$ should be set large and as close to 1 possible, to reduce this statistical error."
   ]
  },
  {
   "cell_type": "markdown",
   "metadata": {},
   "source": [
    "### Flipped Portkey"
   ]
  },
  {
   "cell_type": "markdown",
   "metadata": {},
   "source": [
    "When faced with a target density that is restricted to a constrained space it may be easier to lower bound $\\pi(x)q(x, y)$, or in other words, upper bound $\\pi(x)^{−1}q(x, y)^{−1}$"
   ]
  },
  {
   "cell_type": "markdown",
   "metadata": {},
   "source": [
    "$\\pi(x)^{−1}q(x, y)^{−1} = \\tilde{c_x}\\tilde{p_x}$"
   ]
  },
  {
   "cell_type": "markdown",
   "metadata": {},
   "source": [
    "The acceptance probablity $\\alpha_{f,(\\beta)}(x,y)$ given by\n",
    "<br><br>\n",
    "$\\displaystyle{d(x,y):=\\tilde{d}(x,y)=\\frac{1-\\beta}{\\beta}\\frac{\\tilde{c_x}+\\tilde{c_y}}{\\tilde{c_x}\\tilde{p_x}\\tilde{c_y}\\tilde{p_y}}}$"
   ]
  },
  {
   "cell_type": "markdown",
   "metadata": {},
   "source": [
    "$\\displaystyle{\\alpha_{f,(\\beta)}(x,y) = \\frac{\\tilde{c_x}\\tilde{p_x}}{\\tilde{c_x}\\tilde{p_x}+\\tilde{c_y}\\tilde{p_y}+ \\beta^{-1}(1-\\beta)(\\tilde{c_x}+\\tilde{c_y})}}$"
   ]
  },
  {
   "cell_type": "markdown",
   "metadata": {},
   "source": [
    "# A2"
   ]
  }
 ],
 "metadata": {
  "kernelspec": {
   "display_name": "Julia 1.7.2",
   "language": "julia",
   "name": "julia-1.7"
  },
  "language_info": {
   "file_extension": ".jl",
   "mimetype": "application/julia",
   "name": "julia",
   "version": "1.7.2"
  }
 },
 "nbformat": 4,
 "nbformat_minor": 4
}
