{
 "cells": [
  {
   "cell_type": "code",
   "execution_count": 9,
   "id": "c90e28b7",
   "metadata": {},
   "outputs": [],
   "source": [
    "## Question 1"
   ]
  },
  {
   "cell_type": "markdown",
   "id": "ff3877e4",
   "metadata": {},
   "source": [
    "As we know that given the proposal distribution $q(x, y)$, a move from x to y in a MH algorithm is accepted with the probability"
   ]
  },
  {
   "cell_type": "markdown",
   "id": "b1a603e5",
   "metadata": {},
   "source": [
    "$\\alpha(x, y) = min(1, \\frac{\\pi(y)q(y,x)}{\\pi(x)q(x,y)})$"
   ]
  },
  {
   "cell_type": "markdown",
   "id": "73e984db",
   "metadata": {},
   "source": [
    "Barker proposed a similar algorithm with acceptance probability"
   ]
  },
  {
   "cell_type": "markdown",
   "id": "6e3773f5",
   "metadata": {},
   "source": [
    "$\\alpha_B(x, y) = \\frac{\\pi(y)q(y, x)}{\\pi(x)q(x, y) + \\pi(y)q(y, x)}$"
   ]
  },
  {
   "cell_type": "markdown",
   "id": "38a97174",
   "metadata": {},
   "source": [
    "Now there are cases where Bayesian posterior is not available upto normalising constant(may be because of priors or Likelihood) and the ratio $\\pi(y)/\\pi(x)$ can't be calculated. For such cases, it is difficult to implement MH algorithm.\n",
    "In this paper, we are focusing on the use of Bernoulli factories without calculating directly the acceptance probability.\n",
    "A Bernoulli factory problem is which when events occur at a probability p and you have to sample an event which occurs at a probability $h(p)$."
   ]
  },
  {
   "cell_type": "markdown",
   "id": "0532b29e",
   "metadata": {},
   "source": [
    "<h3>Barker's method and two-coin algorithm</h3>"
   ]
  },
  {
   "cell_type": "markdown",
   "id": "4c1b182a",
   "metadata": {},
   "source": [
    "In this method we have to sample events with probabilty $\\alpha_B(x, y)$. For sampling events with baker's probability following bernoulli factory was proposed:"
   ]
  },
  {
   "cell_type": "markdown",
   "id": "ff0f58d0",
   "metadata": {},
   "source": [
    "Supose we calulate bound $c_x$ for $\\pi(x)q(x,y) \\leq c_x$ such that $\\pi(x)q(x,y)=c_xp_x$. Now we have $\\alpha_B(x, y) = \\frac{c_yp_y}{c_xp_x + c_yp_y}$. Now we have already proved that algorithm given in Assignment 2 Q1 returns 1 with probability $\\alpha_B(x, y).$"
   ]
  },
  {
   "cell_type": "markdown",
   "id": "d7a926b3",
   "metadata": {},
   "source": [
    "<h3>Portkey Barker's method</h3>"
   ]
  },
  {
   "cell_type": "markdown",
   "id": "c7ffc1f8",
   "metadata": {},
   "source": [
    "A new family of acceptance probabilities is proposed"
   ]
  },
  {
   "cell_type": "markdown",
   "id": "dd6df531",
   "metadata": {},
   "source": [
    "$\\alpha(x, y) = \\frac{\\pi(y)q(y, x)}{\\pi(x)q(x, y) + \\pi(y)q(y, x) + d(x, y)}$"
   ]
  },
  {
   "cell_type": "markdown",
   "id": "3fa50208",
   "metadata": {},
   "source": [
    "Here $d(x, y)$ should be symmetric and greater than equal to zero."
   ]
  },
  {
   "cell_type": "markdown",
   "id": "0fddf4b4",
   "metadata": {},
   "source": [
    "Now for a particular choice of $d(x, y) = \\frac{(1 - \\beta)}{\\beta}(c_x + c_y)\\,\\,\\,\\,\\,\\,\\, (0<\\beta\\leq1) $ "
   ]
  },
  {
   "cell_type": "markdown",
   "id": "d40c3401",
   "metadata": {},
   "source": [
    "$\\alpha_{(B)}(x, y) = \\frac{\\pi(y)q(y, x)}{\\pi(x)q(x, y) + \\frac{(1 - \\beta)}{\\beta}(c_x + c_y)}\\,\\,$ is portkey's Barker acceptance probability."
   ]
  },
  {
   "cell_type": "markdown",
   "id": "fa4a9769",
   "metadata": {},
   "source": [
    "Now algorithm 3 returns 1 with probability $\\alpha_{(B)}(x, y).$"
   ]
  },
  {
   "cell_type": "markdown",
   "id": "e54415e8",
   "metadata": {},
   "source": [
    "<h3>Flipped Portkey two-coin algorithm</h3>"
   ]
  },
  {
   "cell_type": "markdown",
   "id": "bdca0f91",
   "metadata": {},
   "source": [
    "A challenge faced while implementing the two-coin algorithm is to find a suitable $c_x$. In some cases it may be easier to find lower bound $\\pi(x)q(x,y)$, or upper bound $\\pi(x)^{-1}q(x,y)^{-1}$ that is"
   ]
  },
  {
   "cell_type": "markdown",
   "id": "7638a956",
   "metadata": {},
   "source": [
    " $\\pi(x)^{-1}q(x,y)^{-1}=\\tilde{c_x}\\tilde{p_x}$"
   ]
  },
  {
   "cell_type": "markdown",
   "id": "58d64373",
   "metadata": {},
   "source": [
    "Now with $\\tilde{d}(x,y) = \\frac{1-\\beta}{\\beta}\\frac{(\\tilde{c_x} + \\tilde{c_y})}{\\tilde{c_x}\\tilde{p_x}\\tilde{c_y}\\tilde{p_y}}$"
   ]
  },
  {
   "cell_type": "markdown",
   "id": "3c5bf66f",
   "metadata": {},
   "source": [
    "Acceptance probability denoted by $\\alpha_{f,(\\beta)}(x, y)$ of the form $\\alpha_{(B)}(x, y)$ is the new acceptance probability."
   ]
  },
  {
   "cell_type": "markdown",
   "id": "0aec4024",
   "metadata": {},
   "source": [
    "Now algorithm 4 (flipped portkey two-coin algorithm) returns 1 with probability $\\alpha_{f,(\\beta)}(x, y)$."
   ]
  }
 ],
 "metadata": {
  "kernelspec": {
   "display_name": "Julia 1.7.2",
   "language": "julia",
   "name": "julia-1.7"
  },
  "language_info": {
   "file_extension": ".jl",
   "mimetype": "application/julia",
   "name": "julia",
   "version": "1.7.2"
  }
 },
 "nbformat": 4,
 "nbformat_minor": 5
}
