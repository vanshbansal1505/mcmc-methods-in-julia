{
 "cells": [
  {
   "cell_type": "markdown",
   "id": "c9b51a1a",
   "metadata": {},
   "source": [
    "# <center> MCMC in Julia</center> <br>\n",
    "## <center>Assignment #5 </center>"
   ]
  },
  {
   "cell_type": "markdown",
   "id": "3c1cc073",
   "metadata": {},
   "source": [
    "## <center>Barker's method and the two-coin algorithm</center>"
   ]
  },
  {
   "cell_type": "markdown",
   "id": "7d17e7f0",
   "metadata": {},
   "source": [
    "Given a Markov chain $x$. <br>\n",
    "Proposal density is given by $q(x,y)$ <br>\n",
    "Barker's acceptance probability $(\\alpha_{B}(x,y))$: $\\frac{\\pi(y)q(y,x)}{\\pi(x)q(x,y)+\\pi(y)q(y,x)}$<br>\n",
    "\n",
    "### Algorithm 1: Barker's MCMC for $x_{m+1}$ <br>\n",
    "1: Draw $y\\sim q(x_{m},y)$ <br>\n",
    "2: Draw $A\\sim Bern(\\alpha_{B}(x_{m},y))$<br>\n",
    "3: <b>if</b> A = 1 <b>then</b><br>\n",
    "4: $\\hspace{1cm}$   $ x_{m+1} = y$<br>\n",
    "5: <b>if</b> A = 0 <b>then</b><br>\n",
    "6: $\\hspace{1cm}$   $x_{m+1} = x_{m}$ <br><br><br>\n",
    "\n",
    "This algorithm finds the value of the markov chain at time $m+1$. If $\\alpha_{B}$ cannot be calculated explicitly then it is simulated using Bernoulli Factory and this process is known as the <i> Two-coin algorithm</i>."
   ]
  },
  {
   "cell_type": "markdown",
   "id": "2776c598",
   "metadata": {},
   "source": [
    "### Algorithm 2 : two-coin algorithm for $\\alpha_{B}(x,y)$ <br>\n",
    "1: Draw $C_{1} \\sim Bern\\left (\\frac{c_{y}}{c_{y}+c_{x}} \\right )$ <br>\n",
    "2: <b>if</b> $C_{1} = 1$ <b>then</b> <br>\n",
    "3:$\\hspace{1cm}$    Draw $C_{2} \\sim Bern(p_{y})$<br>\n",
    "4:$\\hspace{1cm}$  <b>if</b> $C_{2}=1$ <b>then</b> <br>\n",
    "5: $\\hspace{1.5cm}$          output 1 <br>\n",
    "6:$\\hspace{1cm}$   <b> if</b> $C_{2}=0 $ <b>then</b> <br>\n",
    "7:$\\hspace{1.5cm}$           go to Step 1 <br>\n",
    "8: <b> if </b> $C_{1}=0$ <b> then</b> <br>\n",
    "9:$\\hspace{1cm}$     Draw $C_{2}\\sim Bern(p_{x})$<br>\n",
    "10: $\\hspace{1cm}$  <b>if</b> $C_{2}=1$ <b>then</b> <br>\n",
    "11: $\\hspace{1.5cm}$         output 0 <br>\n",
    "12: $\\hspace{1cm}$  <b>if</b> $C_{2}=0$ <b>then</b><br>\n",
    "13: $\\hspace{1.5cm}$         go to Step 1<br>\n",
    "\n",
    "The following Bernoulli Factory to sample events with probability $\\alpha_{B}(x,y)$ has been implemented in the above algorithm.<br><br>\n",
    "Suppose: <center> $\\pi(x)q(x,y)=c_{x}p_{x}$</center><br>\n",
    "Similarly:<center> $\\pi(y)q(y,x)=c_{y}p_{y}$</center><br>\n",
    "$c_{x}$ and $c_{y}$ are possibly known and $0<p_{x},p_{y}<1$<br>\n",
    "The two-coin Bernoulli Factory mentioned in the above algorith, returns events of probability $\\alpha_{B}(x,y)$ with:<br>\n",
    "<center> $h(p_{x},p_{y}):= \\frac{c_{y}p_{y}}{c_{x}p_{x}+c_{y}p_{y}} = \\alpha_{B}(x,y)$ </center><br>\n",
    "The number of loops until the algorithm stops is distributed as $Geom \\left (\\frac{(c_{y}p_{y}+c_{x}p_{x})}{(c_{y}+c_{x})})\\right)$<br>\n",
    "The mean execution time is: <br>\n",
    "$\\frac{c_{x}+c_{y}}{c_{x}p_{x}+c_{y}p_{y}} = \\frac{c_{x}+c_{y}}{\\pi{x}q(x,y)+\\pi(y)q(y,x)}$<br>\n",
    "\n"
   ]
  },
  {
   "cell_type": "markdown",
   "id": "ac16c65c",
   "metadata": {},
   "source": [
    "## <center> Portkey Barker's method </center>"
   ]
  },
  {
   "cell_type": "markdown",
   "id": "c4c4ecf5",
   "metadata": {},
   "source": [
    "The calculation of $\\alpha_{B}$ is the main source of inefficiency in the Barker' method.<br>\n",
    "To counter this a new family of acceptance probabilities is introduced, and an efficient Bernoulli factory iis given for its members.<br>\n",
    "Now, $\\alpha(x,y)$ = $\\frac{\\pi(y)q(y,x)}{\\pi(x)q(x,y)+\\pi(y)q(x,y)+d(x,y)}$ <br>\n",
    "$d(x,y)=d(y,x) \\geq 0$<br>\n",
    "Here $\\alpha(x,y)$ yields a $\\pi$-reversible Markov Chain.<br><br>\n",
    "<b>Theorem 1</b> : For a proposal denisty $q(x,y)$, a Markov chain with acceptance probabiltiy $\\alpha(x,y)$ is $\\pi$-reversible if and only if $d(x,y) = d(y,x)$.<br><br>\n",
    "<i>Proof</i> : let $d(y,x)=$d(x,y), Consider:<br>\n",
    "$\\pi(x)q(x,y)\\alpha(x,y)=\\frac{\\pi(x)q(y,x)\\pi(x)q(x,y)}{\\pi(x)q(x,y)+\\pi(y)q(y,x)+d(x,y)}=\\pi(y)q(y,x)\\alpha(y,x).$<br><br>\n",
    "Hence Proved.<br><br>\n",
    "Now, for a user chosen $0<\\beta \\leq 1 $, consider the following portkey Barker's acceptance probability : <br>\n",
    "<center> $\\alpha_{(\\beta)}(x,y):=\\frac{\\pi(y)q(y,x)}{\\pi(y)q(y,x)+\\pi(x)q(x,y)+\\frac{1-\\beta}{\\beta}(c_{x}+c_{y})}$<br><br>\n",
    "    \n",
    "The Barker's algorithm is now modified by yielding the events of probability $\\alpha_{(\\beta)}(x,y)$<br><br>\n",
    "### Algorithm 3 : Portkey two-coin algorithm <br>\n",
    "\n",
    "1: Draw $S \\sim Bernoulli(\\beta)$<br>\n",
    "2: <b>if</b> $S=0$ <b>then</b><br>\n",
    "3: $\\hspace{1cm}$ output 0<br>\n",
    "4: <b>if </b>$S=1$ <b>then</b><br>\n",
    "5:$\\hspace{1cm}$ Draw $C_{1} \\sim Bern\\left (\\frac{c_{y}}{c_{y}+c_{x}} \\right )$ <br>\n",
    "6:$\\hspace{1cm}$ <b>if</b> $C_{1} = 1$ <b>then</b> <br>\n",
    "7:$\\hspace{1cm}$$\\hspace{1cm}$    Draw $C_{2} \\sim Bern(p_{y})$<br>\n",
    "8:$\\hspace{1cm}$$\\hspace{1cm}$  <b>if</b> $C_{2}=1$ <b>then</b> <br>\n",
    "9:$\\hspace{1cm}$ $\\hspace{1.5cm}$          output 1 <br>\n",
    "10:$\\hspace{1cm}$$\\hspace{1cm}$   <b> if</b> $C_{2}=0 $ <b>then</b> <br>\n",
    "11:$\\hspace{1cm}$$\\hspace{1.5cm}$           go to Step 1 <br>\n",
    "12:$\\hspace{1cm}$ <b> if </b> $C_{1}=0$ <b> then</b> <br>\n",
    "13:$\\hspace{1cm}$$\\hspace{1cm}$     Draw $C_{2}\\sim Bern(p_{x})$<br>\n",
    "14: $\\hspace{1cm}$$\\hspace{1cm}$  <b>if</b> $C_{2}=1$ <b>then</b> <br>\n",
    "15: $\\hspace{1cm}$$\\hspace{1.5cm}$         output 0 <br>\n",
    "16:$\\hspace{1cm}$ $\\hspace{1cm}$  <b>if</b> $C_{2}=0$ <b>then</b><br>\n",
    "17: $\\hspace{1cm}$$\\hspace{1.5cm}$         go to Step 1<br><br><br>    "
   ]
  },
  {
   "cell_type": "markdown",
   "id": "97c1f6b3",
   "metadata": {},
   "source": [
    "<b>Theorem 2</b> : Algorithm 3 yields output 1 with probability $\\alpha_{(\\beta)}(x,y).$<br>\n",
    "    <i>Proof</i>: Let $r$ be the probability of no output in any given loop of the algorithm. Then,<br>\n",
    "    <center>$r$ = $\\beta \\frac{c_{y}(1-p_{y})+c_{x}(1-p_{x})}{c_{x}+c_{y}}$ </center>\n",
    "<center>$\\implies$ $\\sum_{i=0}^{\\infty}r^{i}$ = $\\frac{c_{x}+c_{y}}{(1-\\beta)(c_{x}+c_{y})+\\beta(c_{x}p_{x}+c_{y}p_{y})}$<br>\n",
    "    only the ith loop should output 1.<br>\n",
    "    Therefore,<br>\n",
    "    <center> $\\beta\\frac{c_{y}p_{y}}{c_{x}+c_{y}}\\sum_{i=0}^{\\infty}r^{i}$ = $\\frac{c_{y}p_{y}}{c_{x}p_{x}+c_{y}p_{y}+\\frac{1-\\beta}{\\beta}(c_{x}+c_{y})}$<br><br><br>\n",
    " The number of loops until the algorithm stops is distributed to a $Geom(s_{\\beta})$, where<br>\n",
    "        $s_{\\beta}$=$(1-\\beta)+\\beta.\\frac{c_{y}p_{y}+c_{x}p_{x}}{c_{x}+c_{y}}$<br>\n",
    "        \n",
    "        "
   ]
  },
  {
   "cell_type": "markdown",
   "id": "63956db0",
   "metadata": {},
   "source": [
    "## <center>Flipped portkey two-coin algorithm </center>"
   ]
  },
  {
   "cell_type": "markdown",
   "id": "3f4087d2",
   "metadata": {},
   "source": [
    "It is often difficult to find suitable $c_{x}$ in Algorithm 3, so we define it differently.<br>\n",
    "<center>$\\pi(x)^{-1}q(x,y)^{-1} = \\tilde{c_{x}}\\tilde{p_{x}}$</center><br><br>\n",
    "The acceptance probabilty is now defined by $\\alpha_{f,(\\beta)}(x,y)$ of the form $\\alpha(x,y)$ as defined in the algorithm 2.<br>\n",
    "<center>$d(x,y):= \\tilde{d}(x,y)=\\frac{(1-\\beta)}{\\beta}\\frac{(\\tilde{c_{x}}+\\tilde{c_{y}})}{\\tilde{c_{x}}\\tilde{p_{x}}\\tilde{c_{y}}\\tilde{p_{y}}}$\n"
   ]
  },
  {
   "cell_type": "markdown",
   "id": "d18bdb75",
   "metadata": {},
   "source": [
    "### <center>Algorithm 4 Flipped portkey two-coin algorithm </center><br><br>\n",
    "\n",
    "1: Draw $S \\sim Bernoulli(\\beta)$<br>\n",
    "2: <b>if</b> $S=0$ <b>then</b><br>\n",
    "3: $\\hspace{1cm}$ output 0<br>\n",
    "4: <b>if </b>$S=1$ <b>then</b><br>\n",
    "5:$\\hspace{1cm}$ Draw $C_{1} \\sim Bern\\left (\\frac{\\tilde{c_{y}}}{\\tilde{c_{y}}+\\tilde{c_{x}}} \\right )$ <br>\n",
    "6:$\\hspace{1cm}$ <b>if</b> $C_{1} = 1$ <b>then</b> <br>\n",
    "7:$\\hspace{1cm}$$\\hspace{1cm}$    Draw $C_{2} \\sim Bern(\\tilde{p_{x}})$<br>\n",
    "8:$\\hspace{1cm}$$\\hspace{1cm}$  <b>if</b> $C_{2}=1$ <b>then</b> <br>\n",
    "9:$\\hspace{1cm}$ $\\hspace{1.5cm}$          output 1 <br>\n",
    "10:$\\hspace{1cm}$$\\hspace{1cm}$   <b> if</b> $C_{2}=0 $ <b>then</b> <br>\n",
    "11:$\\hspace{1cm}$$\\hspace{1.5cm}$           go to Step 1 <br>\n",
    "12:$\\hspace{1cm}$ <b> if </b> $C_{1}=0$ <b> then</b> <br>\n",
    "13:$\\hspace{1cm}$$\\hspace{1cm}$     Draw $C_{2}\\sim Bern(\\tilde{p_{y}})$<br>\n",
    "14: $\\hspace{1cm}$$\\hspace{1cm}$  <b>if</b> $C_{2}=1$ <b>then</b> <br>\n",
    "15: $\\hspace{1cm}$$\\hspace{1.5cm}$         output 0 <br>\n",
    "16:$\\hspace{1cm}$ $\\hspace{1cm}$  <b>if</b> $C_{2}=0$ <b>then</b><br>\n",
    "17: $\\hspace{1cm}$$\\hspace{1.5cm}$         go to Step 1<br><br><br>    \n"
   ]
  },
  {
   "cell_type": "markdown",
   "id": "b4424b82",
   "metadata": {},
   "source": [
    "## <center>Gamma mixture of Weibulls</center>"
   ]
  },
  {
   "cell_type": "code",
   "execution_count": null,
   "id": "eeda4499",
   "metadata": {},
   "outputs": [],
   "source": []
  }
 ],
 "metadata": {
  "kernelspec": {
   "display_name": "Julia 1.7.2",
   "language": "julia",
   "name": "julia-1.7"
  },
  "language_info": {
   "file_extension": ".jl",
   "mimetype": "application/julia",
   "name": "julia",
   "version": "1.7.2"
  }
 },
 "nbformat": 4,
 "nbformat_minor": 5
}
