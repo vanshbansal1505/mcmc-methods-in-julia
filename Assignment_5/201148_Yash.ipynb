{
 "cells": [
  {
   "cell_type": "markdown",
   "id": "34ca5cfa",
   "metadata": {},
   "source": [
    "## Bernoulli Factories MCMC"
   ]
  },
  {
   "cell_type": "markdown",
   "id": "4c822b01",
   "metadata": {},
   "source": [
    "If sampling from the MCMC algorithms like MH algorithm, we need to calculate the acceptance probability and in many cases the functional form is intracable or very difficult to calculate Accept-reject ratio.<br>We can use Bernoulli Factories instead of normal accept reject and calculate the ratio without even calculating it.The two-coin algorithm of *Goncalves* on each iteration of MCMC implement Bernoulli Factory to make choice. Hence using some acceptance for which Bernoulli Factory are easy to implement can help."
   ]
  },
  {
   "cell_type": "markdown",
   "id": "fbdd7ecf",
   "metadata": {},
   "source": [
    "### Barker's Method and the two-coin algorithm.\n",
    "Similiar to MH-Algo, Barker's Method uses a proposal q(x,y). But, instead comparing the ratio $\\alpha_B$ with $U \\sim U[0,1]$, we sample from bernoulli with probability of Barker's Ratio.Hence, the modified Algorithm is written as:\n",
    "1. Draw y from proposal\n",
    "2. Now sample A from Bernoulli of p=$\\alpha_B$\n",
    "3. If A=1 then update the next state\n",
    "4. Else state remains same.\n",
    "\n",
    "Now, implementing the Bernoulli factory for the Algorithm. Suppose, $\\pi(X)q(X,Y)=c_xp_x$, where $p_x$ can be assumed of a probability and $c_x$ be the upper bound on the probability, similiarly for state y. So, modified Two-coin algo produce output with probability as $\\alpha_B$.<br>\n",
    "Two-Coin Algorithm is written below:\n",
    "1. Sample from C1 $\\sim$ Bern($\\frac{c_y}{c_x+c_y}$)\n",
    "2. If C1==1 do the following\n",
    "    1. Draw C2 = Bern($p_y$)\n",
    "    2. If C2==1 return 1\n",
    "    3. Else Goto step 1\n",
    "3. If C1==0 do the following\n",
    "    1. Draw C2 = Bern($p_x$)\n",
    "    2. If C2==1 return 0\n",
    "    3. Else Goto step 1\n",
    "\n",
    "The Efficiency of Agorithm Depends on the bound of $C_x$ and $C_y$"
   ]
  },
  {
   "cell_type": "markdown",
   "id": "dd8051c5",
   "metadata": {},
   "source": [
    "### PortKey's Barker Method\n",
    "The Inefficiency of above method is due to Acceptance ratio, so finding a efficient ratio can increase the efficiency of Two Coin Method.<br>\n",
    "Consider, $\\alpha(x, y) = \\frac{\\pi(y)q(y,x)}{\\pi(x)q(x,y)+\\pi(y)q(y,x)+d(x,y)}$ as member of Acceptance Probability of the family.<br>\n",
    "Below two properties are required to use it as acceptance probability:-\n",
    "1. $\\alpha$ is $\\pi-reversible$ if d(x,y)=d(y,x)\n",
    "    So, we can use a d(x,y) = $\\frac{1-\\beta}{\\beta}(c_x+c_y)$ and modify the above algorithm to get the *PortKey* Barker Method.The $\\beta$ should be close to 1 to reduce the d(x,y) error.\n",
    "2. The Following modified Algorithm will give output 1 with probability $\\alpha_\\beta(x,y)$\n",
    "\n",
    "Modification's in Two-Key Algorithm:-\n",
    "1. Initially sample S from Bernoulli($\\beta$).\n",
    "2. If S==0 return 0\n",
    "3. Else Do the Two Coin Algorithm.\n",
    "\n",
    "The average number of Loop of Both the above Algorithm have the ratio which shows that the new Portkey's two coin method is efficient/comparable than the original two coin method.<br>\n",
    "The computational Efficiency come here at cost of Statistical Error.\n",
    "<br>\n",
    "For 0 < β ≤ 1, α(β) (x, y) ≤ β$α_B$(x, y)<br> var(g, $P_B$) ≤ β var(g, P(β)) + (β − 1)$Var_\\pi$(g)."
   ]
  },
  {
   "cell_type": "markdown",
   "id": "66549176",
   "metadata": {},
   "source": [
    "### Flipped PortKey Two Coin Algorithm\n",
    "Sometimes, finding upper bound of $\\pi(x)q(x,y)$ so we can use the lower bound in that case. Such that<br>\n",
    "$\\pi(x)^{-1}q(x,y)^{-1} = \\tilde{c_x}\\tilde{p}(x)$ and<br>\n",
    "$\\tilde{d}$(x, y) = $\\frac{1-\\beta}{\\beta}\\frac{\\tilde{c_x}+\\tilde{c_y}}{\\tilde{c_xp_x}+\\tilde{c_yp_y}}$<br>\n",
    "Then using similar to Portkey's Algorithm we can apply Flipped Portkey's Agorithm"
   ]
  },
  {
   "cell_type": "markdown",
   "id": "2c32d147",
   "metadata": {},
   "source": [
    "# Q2"
   ]
  },
  {
   "cell_type": "code",
   "execution_count": 1,
   "id": "78c5f94c",
   "metadata": {},
   "outputs": [],
   "source": [
    "using Distributions"
   ]
  },
  {
   "cell_type": "code",
   "execution_count": 2,
   "id": "e1cde825",
   "metadata": {},
   "outputs": [
    {
     "data": {
      "text/plain": [
       "pθ (generic function with 1 method)"
      ]
     },
     "metadata": {},
     "output_type": "display_data"
    }
   ],
   "source": [
    "a=2\n",
    "b=5\n",
    "function cθ(x, k)\n",
    "    return (k/(exp(1)*x))\n",
    "end\n",
    "function pθ(x, k)                     \n",
    "    λ = rand(Gamma(a,b))         \n",
    "    return pdf(Weibull(k,λ), x)/cθ(x, k)\n",
    "end"
   ]
  },
  {
   "cell_type": "code",
   "execution_count": 142,
   "id": "75906b9f",
   "metadata": {},
   "outputs": [
    {
     "data": {
      "text/plain": [
       "0.20298070934236268"
      ]
     },
     "metadata": {},
     "output_type": "display_data"
    }
   ],
   "source": [
    "pθ(1,2)"
   ]
  },
  {
   "cell_type": "code",
   "execution_count": 3,
   "id": "1baf0f82",
   "metadata": {},
   "outputs": [
    {
     "data": {
      "text/plain": [
       "portkey (generic function with 1 method)"
      ]
     },
     "metadata": {},
     "output_type": "display_data"
    }
   ],
   "source": [
    "function portkey(β, x, y, cx, cy, k)\n",
    "    flag=0\n",
    "    run_count = 0;\n",
    "    ratio = (cy)/(cx+cy)\n",
    "    while(flag==0)\n",
    "        run_count = run_count + 1\n",
    "        S = rand(Bernoulli(β))\n",
    "        if S==false\n",
    "            flag=1\n",
    "            return [x run_count]\n",
    "        else\n",
    "            C1 = rand(Bernoulli(ratio))\n",
    "            if C1==true\n",
    "                C2 = rand(Bernoulli(pθ(y, k)))\n",
    "                if C2==true\n",
    "                    flag=1\n",
    "                    return [y run_count]\n",
    "                end\n",
    "            else\n",
    "                C2 = rand(Bernoulli(pθ(x, k)))\n",
    "                if C2==true\n",
    "                    flag=1\n",
    "                    return [x run_count]\n",
    "                end\n",
    "            end\n",
    "        end\n",
    "    end\n",
    "end"
   ]
  },
  {
   "cell_type": "code",
   "execution_count": 4,
   "id": "110e4a9c",
   "metadata": {},
   "outputs": [
    {
     "data": {
      "text/plain": [
       "mcmc (generic function with 1 method)"
      ]
     },
     "metadata": {},
     "output_type": "display_data"
    }
   ],
   "source": [
    "k = 10\n",
    "function mcmc(β)\n",
    "    var = 0.001\n",
    "    iterations = 1000000\n",
    "    observe = [1.0]\n",
    "    run_time = []\n",
    "    accept = 0\n",
    "    for i=1:iterations\n",
    "        y = rand(Normal(observe[i], sqrt(var)))\n",
    "        if(y<0)\n",
    "            push!(observe, observe[i])\n",
    "            continue\n",
    "        end\n",
    "        alpha = portkey(β, observe[i], y, cθ(observe[i], k), cθ(y, k), k)\n",
    "        push!(observe, alpha[1])\n",
    "        if(observe[i+1]!=observe[i])\n",
    "            accept = accept+1\n",
    "        end\n",
    "        push!(run_time, alpha[2])\n",
    "    end\n",
    "    println(accept/iterations)\n",
    "    return observe, run_time\n",
    "end"
   ]
  },
  {
   "cell_type": "code",
   "execution_count": 5,
   "id": "2fbda655",
   "metadata": {},
   "outputs": [
    {
     "name": "stdout",
     "output_type": "stream",
     "text": [
      "0.499501\n",
      "0.434132\n",
      "0.37058\n",
      "0.345878\n"
     ]
    }
   ],
   "source": [
    "\n",
    "list1, number = mcmc(1);\n",
    "list2, number = mcmc(0.99);\n",
    "list3, number = mcmc(0.98);\n",
    "list4, number = mcmc(0.97);"
   ]
  },
  {
   "cell_type": "code",
   "execution_count": 7,
   "id": "608b088a",
   "metadata": {},
   "outputs": [],
   "source": [
    "using Plots\n",
    "using StatsPlots\n",
    "using StatsBase"
   ]
  },
  {
   "cell_type": "code",
   "execution_count": null,
   "id": "f3cf844b",
   "metadata": {},
   "outputs": [],
   "source": [
    "p1 = plot(list1, title=\"β=1\")\n",
    "p2 = plot(list2, title=\"β=0.99\")\n",
    "p3 = plot(list3, title=\"β=0.98\")\n",
    "p4 = plot(list4, title=\"β=0.97\")"
   ]
  },
  {
   "cell_type": "code",
   "execution_count": null,
   "id": "d2f66b24",
   "metadata": {},
   "outputs": [],
   "source": [
    "plot(p1, p2, p3, p4, layout=(2,2), legend=false)"
   ]
  }
 ],
 "metadata": {
  "kernelspec": {
   "display_name": "Julia 1.7.2",
   "language": "julia",
   "name": "julia-1.7"
  },
  "language_info": {
   "file_extension": ".jl",
   "mimetype": "application/julia",
   "name": "julia",
   "version": "1.7.2"
  }
 },
 "nbformat": 4,
 "nbformat_minor": 5
}
